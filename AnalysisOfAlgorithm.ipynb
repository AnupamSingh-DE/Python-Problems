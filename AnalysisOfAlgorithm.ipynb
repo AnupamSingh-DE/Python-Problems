{
 "cells": [
  {
   "cell_type": "code",
   "execution_count": 1,
   "id": "9a5de366-2e46-4c16-8d86-c11a654e30e3",
   "metadata": {},
   "outputs": [
    {
     "name": "stdin",
     "output_type": "stream",
     "text": [
      "Enter N 3\n"
     ]
    },
    {
     "name": "stdout",
     "output_type": "stream",
     "text": [
      "Sum of n natural number is  6.0\n"
     ]
    }
   ],
   "source": [
    "#sum of n numbers\n",
    "def sum(n):\n",
    "    return (n*(n+1))/2\n",
    "\n",
    "n = int(input(\"Enter N\"))\n",
    "res = sum(n)\n",
    "print(\"Sum of n natural number is \",res)"
   ]
  },
  {
   "cell_type": "code",
   "execution_count": 2,
   "id": "fad4e256-a4c4-4891-9ff7-aef63e327aa6",
   "metadata": {},
   "outputs": [
    {
     "name": "stdin",
     "output_type": "stream",
     "text": [
      "Enter N 3\n"
     ]
    },
    {
     "name": "stdout",
     "output_type": "stream",
     "text": [
      "Sum of n natural number is  6\n"
     ]
    }
   ],
   "source": [
    "#iterative approach for sum n\n",
    "n = int(input(\"Enter N\"))\n",
    "sum = 0\n",
    "for i in range(1,n+1):\n",
    "    sum += i\n",
    "\n",
    "print(\"Sum of n natural number is \",sum)"
   ]
  },
  {
   "cell_type": "code",
   "execution_count": null,
   "id": "768b9655-b616-4d1f-8098-e344f4df163a",
   "metadata": {},
   "outputs": [],
   "source": []
  }
 ],
 "metadata": {
  "kernelspec": {
   "display_name": "Python 3 (ipykernel)",
   "language": "python",
   "name": "python3"
  },
  "language_info": {
   "codemirror_mode": {
    "name": "ipython",
    "version": 3
   },
   "file_extension": ".py",
   "mimetype": "text/x-python",
   "name": "python",
   "nbconvert_exporter": "python",
   "pygments_lexer": "ipython3",
   "version": "3.12.7"
  }
 },
 "nbformat": 4,
 "nbformat_minor": 5
}
