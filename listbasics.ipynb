{
 "cells": [
  {
   "cell_type": "code",
   "execution_count": null,
   "id": "154a669f-e49d-42df-aa4e-f9c28d40b76a",
   "metadata": {},
   "outputs": [],
   "source": [
    "#listt\n",
    "\n",
    "l = [10,20,30,40,50]\n",
    "print(l)"
   ]
  },
  {
   "cell_type": "code",
   "execution_count": null,
   "id": "df25960b-bb1c-4183-b2fe-11a721660856",
   "metadata": {},
   "outputs": [],
   "source": [
    "l.append(30)\n",
    "l"
   ]
  },
  {
   "cell_type": "code",
   "execution_count": null,
   "id": "c26413c5-5643-4357-8af4-d2e9b3b6753d",
   "metadata": {},
   "outputs": [],
   "source": [
    "l.insert(1,15)\n",
    "l"
   ]
  },
  {
   "cell_type": "code",
   "execution_count": null,
   "id": "4d774a82-c3c1-4aab-bd81-a0c8eb50e083",
   "metadata": {},
   "outputs": [],
   "source": [
    "print(15 in l)"
   ]
  },
  {
   "cell_type": "code",
   "execution_count": null,
   "id": "68073fb1-e58b-4338-9a56-29b2d686f62e",
   "metadata": {},
   "outputs": [],
   "source": [
    "print(l.count(30))"
   ]
  },
  {
   "cell_type": "code",
   "execution_count": null,
   "id": "5d24e10a-b67c-4c2b-b734-5adb6ec599b6",
   "metadata": {},
   "outputs": [],
   "source": [
    "print(l.index(30))"
   ]
  },
  {
   "cell_type": "code",
   "execution_count": null,
   "id": "2db79fbb-51d4-4e27-aba7-b88803238d8a",
   "metadata": {},
   "outputs": [],
   "source": [
    "print(l.index(78)) #throws error not present"
   ]
  },
  {
   "cell_type": "code",
   "execution_count": null,
   "id": "5cae5a08-dfdc-4baf-b9f4-2733030b9f66",
   "metadata": {},
   "outputs": [],
   "source": [
    "print(l.index(30,4,7))"
   ]
  },
  {
   "cell_type": "code",
   "execution_count": null,
   "id": "01bfbfc2-21ae-4317-b5d2-abc3122d9033",
   "metadata": {},
   "outputs": [],
   "source": [
    "#removal of elements from list\n",
    "l.remove(20)"
   ]
  },
  {
   "cell_type": "code",
   "execution_count": null,
   "id": "befd212b-fd23-45ef-b7fa-97b9747fbc3a",
   "metadata": {},
   "outputs": [],
   "source": [
    "l"
   ]
  },
  {
   "cell_type": "code",
   "execution_count": null,
   "id": "91211dae-c227-4185-af7f-9b405cd6e515",
   "metadata": {},
   "outputs": [],
   "source": [
    "print(l.pop(1))"
   ]
  },
  {
   "cell_type": "code",
   "execution_count": null,
   "id": "8e821f8e-e0d2-4c9c-a2ef-e593f51ecbc6",
   "metadata": {},
   "outputs": [],
   "source": [
    "l"
   ]
  },
  {
   "cell_type": "code",
   "execution_count": null,
   "id": "fa3465da-e0c7-4cde-bc28-25846ce128ab",
   "metadata": {},
   "outputs": [],
   "source": [
    "print(l.pop(2))"
   ]
  },
  {
   "cell_type": "code",
   "execution_count": null,
   "id": "a6dfac1e-d039-44d7-ae43-13a082afd63b",
   "metadata": {},
   "outputs": [],
   "source": [
    "l"
   ]
  },
  {
   "cell_type": "code",
   "execution_count": null,
   "id": "dec04b65-8481-4225-84c7-369c543d0f1b",
   "metadata": {},
   "outputs": [],
   "source": [
    "del l[1]"
   ]
  },
  {
   "cell_type": "code",
   "execution_count": null,
   "id": "4b68fbe3-926e-4d87-a12f-6e3494fb6004",
   "metadata": {},
   "outputs": [],
   "source": [
    "l"
   ]
  },
  {
   "cell_type": "code",
   "execution_count": null,
   "id": "24a45cb2-9975-47a1-8675-def767382e84",
   "metadata": {},
   "outputs": [],
   "source": [
    "del l[0:2]"
   ]
  },
  {
   "cell_type": "code",
   "execution_count": null,
   "id": "02decc39-947d-48c3-aaf7-7b49eb8c13a7",
   "metadata": {},
   "outputs": [],
   "source": [
    "l"
   ]
  },
  {
   "cell_type": "code",
   "execution_count": null,
   "id": "5e44c2b0-acda-4f9e-af17-e461bc184e8e",
   "metadata": {},
   "outputs": [],
   "source": [
    "#General purpose functions\n",
    "l = [10,40,20,50]\n",
    "max(l)"
   ]
  },
  {
   "cell_type": "code",
   "execution_count": null,
   "id": "7b39cbfe-d918-4fe6-8175-9668d3054da5",
   "metadata": {},
   "outputs": [],
   "source": [
    "min(l)"
   ]
  },
  {
   "cell_type": "code",
   "execution_count": null,
   "id": "54b1c9cd-0c1f-4c9b-afe7-a38af4141b9e",
   "metadata": {},
   "outputs": [],
   "source": [
    "sum(l)"
   ]
  },
  {
   "cell_type": "code",
   "execution_count": null,
   "id": "0c06e23f-9960-4005-ae32-72d881bed9ce",
   "metadata": {},
   "outputs": [],
   "source": [
    "l.reverse()"
   ]
  },
  {
   "cell_type": "code",
   "execution_count": null,
   "id": "10f3cfe3-e067-40f6-bab8-266b23993ef0",
   "metadata": {},
   "outputs": [],
   "source": [
    "l"
   ]
  },
  {
   "cell_type": "code",
   "execution_count": null,
   "id": "a8e68305-17fe-44e9-ac15-948f31ecd795",
   "metadata": {},
   "outputs": [],
   "source": [
    "l.sort()"
   ]
  },
  {
   "cell_type": "code",
   "execution_count": null,
   "id": "63f6639c-6066-4444-99c5-09c231cff4c0",
   "metadata": {},
   "outputs": [],
   "source": [
    "l"
   ]
  },
  {
   "cell_type": "code",
   "execution_count": null,
   "id": "8e1b3183-9626-429c-a5f1-6b5f6065747d",
   "metadata": {},
   "outputs": [],
   "source": [
    "#append to list dynamically\n",
    "\n",
    "l = []\n",
    "n = int(input(\"Enter size of arr\"))\n",
    "for i in range(1,n+1):\n",
    "    a = int(input(\"Enter Elements\"))\n",
    "    l.append(a)\n",
    "sum(l)"
   ]
  },
  {
   "cell_type": "code",
   "execution_count": null,
   "id": "8bda57ae-c2af-4422-a84d-69fdddc60bb8",
   "metadata": {},
   "outputs": [],
   "source": [
    "#mean average\n",
    "l = [1,2,3,4,5]\n",
    "print((sum(l)/len(l)))"
   ]
  },
  {
   "cell_type": "code",
   "execution_count": null,
   "id": "528fc66b-9363-4b3d-951c-61d944ef8dd0",
   "metadata": {},
   "outputs": [],
   "source": [
    "\n",
    "\n",
    "def average(l):\n",
    "    sum = 0 \n",
    "    for x in l:\n",
    "        sum = sum + x\n",
    "\n",
    "    n = len(l)\n",
    "    return sum/n\n",
    "\n",
    "#or\n",
    "def avg(l):\n",
    "    return sum(l)/len(l)\n",
    "\n",
    "if __name__ == '__main__':\n",
    "    l = [12,3,32,23]\n",
    "    print(average(l))\n",
    "    print(avg(l))\n"
   ]
  },
  {
   "cell_type": "code",
   "execution_count": null,
   "id": "90d8c91d-a62c-41ed-8bd3-eb8cb926e621",
   "metadata": {},
   "outputs": [],
   "source": [
    "#seperate even odd from list\n",
    "\n",
    "def sep(l):\n",
    "    a = []\n",
    "    b = []\n",
    "    for x in l:\n",
    "        if x % 2 == 0:\n",
    "            a.append(x)\n",
    "\n",
    "        else:\n",
    "            b.append(x)\n",
    "\n",
    "    print(a)\n",
    "    print(b)\n",
    "\n",
    "if __name__  == '__main__':\n",
    "    l = [14,21,32,42]\n",
    "    sep(l)"
   ]
  },
  {
   "cell_type": "code",
   "execution_count": null,
   "id": "d2a1b850-c50c-4c91-bf49-49be9e88c53a",
   "metadata": {},
   "outputs": [],
   "source": [
    "#get smaller\n",
    "\n",
    "def getSmaller(l):\n",
    "    x = int(input(\"enter the limit\"))\n",
    "    y = []\n",
    "    for i in l:\n",
    "        if i < x:\n",
    "            y.append(i)\n",
    "\n",
    "    return y\n",
    "\n",
    "if __name__ == '__main__':\n",
    "    l = [10,41,2,45]\n",
    "    print(getSmaller(l))\n"
   ]
  },
  {
   "cell_type": "code",
   "execution_count": null,
   "id": "c5d496d9-759d-4571-965c-67075d195554",
   "metadata": {},
   "outputs": [],
   "source": [
    "#slicing Of tuple list string\n",
    "\n",
    "l1 = [1,2,3,4,5]\n",
    "l2 = l1[:]\n",
    "t1 = (1,2,3,4,5)\n",
    "t2 = t1[:]\n",
    "s1 = \"geeks\"\n",
    "s2 = s1[:]\n",
    "\n",
    "print(l1 is l2)\n",
    "print(t2 is t1)\n",
    "print(s1 is s2)"
   ]
  },
  {
   "cell_type": "code",
   "execution_count": null,
   "id": "a40c40e0-f9d8-483a-91fb-c58028e08dd2",
   "metadata": {},
   "outputs": [],
   "source": [
    "#comprehension\n",
    "\n",
    "l1 = [ x for x in range(11) if x % 2 == 0]\n",
    "l1"
   ]
  },
  {
   "cell_type": "code",
   "execution_count": null,
   "id": "891b7dd8-0a1f-47fc-bb8b-3fe4a22fc54c",
   "metadata": {},
   "outputs": [],
   "source": [
    "l2  = [ x for x in range(0,20,2) if x < 10]\n",
    "l2"
   ]
  },
  {
   "cell_type": "code",
   "execution_count": null,
   "id": "384d0f33-3b14-41ff-a992-76c59f314416",
   "metadata": {},
   "outputs": [],
   "source": [
    "l3 = [ x for x in range(11) if x % 2 != 0]\n",
    "l3"
   ]
  },
  {
   "cell_type": "code",
   "execution_count": null,
   "id": "f020e84f-00ed-40b8-8dbb-b5792f12486a",
   "metadata": {},
   "outputs": [],
   "source": [
    "s = \"geeksforgeeks\"\n",
    "l1 = [ x for x in s if x in \"aeiou\"]\n",
    "l1\n"
   ]
  },
  {
   "cell_type": "code",
   "execution_count": null,
   "id": "e3dffc9c-2e8d-4397-b523-92723f2d50c4",
   "metadata": {},
   "outputs": [],
   "source": [
    "s = [\"geeksforgeeks\",\"leet\",\"guru\"]\n",
    "l1 = [ x for x in s if x.startswith(\"g\")]\n",
    "l1"
   ]
  },
  {
   "cell_type": "code",
   "execution_count": null,
   "id": "204d0835-a5f0-4b93-b702-592aed0a6998",
   "metadata": {},
   "outputs": [],
   "source": [
    "l4 = [ x*2 for x in range(6)]\n",
    "l4"
   ]
  },
  {
   "cell_type": "code",
   "execution_count": null,
   "id": "8031462f-255f-4c82-ac01-a5130145ce15",
   "metadata": {},
   "outputs": [],
   "source": [
    "s = [\"geeksforgeeks\",\"leet\",\"guru\"]\n",
    "l1 = [ x.upper() for x in s if x.startswith(\"g\")]\n",
    "l1"
   ]
  },
  {
   "cell_type": "code",
   "execution_count": null,
   "id": "a2e5446d-a52c-432d-9db8-84c895a2100b",
   "metadata": {},
   "outputs": [],
   "source": [
    "#set comprehension\n",
    "s = [\"geeksforgeeks\",\"leet\",\"guru\"]\n",
    "l1 = { x.upper() for x in s if x.startswith(\"g\")}\n",
    "l1"
   ]
  },
  {
   "cell_type": "code",
   "execution_count": null,
   "id": "01201590-60c2-47b4-a891-b7225361b379",
   "metadata": {},
   "outputs": [],
   "source": [
    "#dictionary comprehension\n",
    "l1 = [1,2,3,4,5]\n",
    "d1 = {x : x ** 3 for x in l1}\n",
    "d1"
   ]
  },
  {
   "cell_type": "code",
   "execution_count": null,
   "id": "84f77dce-cdad-4fe2-ac1c-25a97f3273d2",
   "metadata": {},
   "outputs": [],
   "source": [
    "l2 = [101,103,102]\n",
    "l3 = [\"geeksforgeeks\",\"leet\",\"guru\"]\n",
    "d3 = {l2[i]:l3[i] for i in range(len(l2))}\n",
    "d3\n"
   ]
  },
  {
   "cell_type": "code",
   "execution_count": null,
   "id": "5c37c064-d2bb-4ec1-ab2e-51bc2149ea27",
   "metadata": {},
   "outputs": [],
   "source": [
    "#better way\n",
    "d4 = dict(zip(l2,l3))\n",
    "d4"
   ]
  },
  {
   "cell_type": "code",
   "execution_count": null,
   "id": "7a242740-1385-4f8d-88e7-8618985ae75c",
   "metadata": {},
   "outputs": [],
   "source": [
    "#largest element of a list\n",
    "\n",
    "def largestElement(l):\n",
    "    \n",
    "    \n",
    "    if not l:\n",
    "        return None\n",
    "\n",
    "    else:\n",
    "        max = l[0]\n",
    "        for i in l:\n",
    "            if i > max:\n",
    "                slar = max\n",
    "                max = i\n",
    "        \n",
    "    return max,slar\n",
    "\n",
    "if __name__ == '__main__':\n",
    "    l = []\n",
    "    print(largestElement(l))"
   ]
  },
  {
   "cell_type": "code",
   "execution_count": null,
   "id": "f2c6f732-12df-4239-a412-db24d9b91d4c",
   "metadata": {},
   "outputs": [],
   "source": [
    "#second largest element of list (two traversals) dought\n",
    "def getSecMax(l):\n",
    "    if not 1:\n",
    "        return None\n",
    "\n",
    "    lar = getMax(l)\n",
    "    slar = None\n",
    "    for x in l:\n",
    "        if x != lar:\n",
    "            slar = x\n",
    "        else:\n",
    "            slar = max(slar,x)\n",
    "\n",
    "    return slar\n",
    "\n",
    "def getMax(l):\n",
    "    max = l[0]\n",
    "    for x in l:\n",
    "        if x > l[0]:\n",
    "            max = x\n",
    "\n",
    "    return max\n",
    "\n",
    "if __name__ == '__main__':\n",
    "    l = [12,23,32,21,43]\n",
    "    print(getSecMax(l))"
   ]
  },
  {
   "cell_type": "code",
   "execution_count": null,
   "id": "73c673a7-ba59-4bc2-a395-8221d0eca94c",
   "metadata": {},
   "outputs": [],
   "source": [
    "#second Largest value of list\n",
    "def secMax(l):\n",
    "    if not l:\n",
    "        return None\n",
    "    lar = l[0]\n",
    "    slar = None\n",
    "    for x in l[1:]:\n",
    "        if x > lar:\n",
    "            slar = lar\n",
    "            lar = x\n",
    "        elif x != lar:\n",
    "            if slar == None or slar < x:\n",
    "                slar = x\n",
    "\n",
    "    return slar\n",
    "\n",
    "if __name__ == '__main__':\n",
    "    l = [12,21,62,43,23]\n",
    "    print(secMax(l))"
   ]
  },
  {
   "cell_type": "code",
   "execution_count": null,
   "id": "d08233e0-16fc-4dd4-affa-d6605db10b3d",
   "metadata": {},
   "outputs": [],
   "source": [
    "#check if a given list is sorted or not\n",
    "def isSorted(l):\n",
    "    i = 1\n",
    "    while i < len(l):\n",
    "        if l[i] < l[i-1]:\n",
    "            return False\n",
    "\n",
    "        i = i + 1\n",
    "\n",
    "    return True\n",
    "\n",
    "if __name__ == '__main__':\n",
    "    l = [12,32,42,123]\n",
    "    print(isSorted(l))"
   ]
  },
  {
   "cell_type": "code",
   "execution_count": null,
   "id": "271b7768-d5bd-48b1-b269-646ba7dfe6e2",
   "metadata": {},
   "outputs": [],
   "source": [
    "#using sorted function for the same\n",
    "def isSorted(l):\n",
    "    sl = sorted(l)\n",
    "    if l == sl:\n",
    "        return True\n",
    "\n",
    "    else:\n",
    "        return False\n",
    "\n",
    "if __name__ == '__main__':\n",
    "    l = [12,32,42,123]\n",
    "    print(isSorted(l))"
   ]
  },
  {
   "cell_type": "code",
   "execution_count": 2,
   "id": "bac61d18-5276-4f46-952c-72daadaaae37",
   "metadata": {},
   "outputs": [
    {
     "name": "stdout",
     "output_type": "stream",
     "text": [
      "[34, 24, 12]\n"
     ]
    }
   ],
   "source": [
    "#reverse a list\n",
    "l = [12,24,34]\n",
    "l.reverse()\n",
    "print(l)\n"
   ]
  },
  {
   "cell_type": "code",
   "execution_count": 3,
   "id": "b8de1307-e112-4f09-befb-11c4f072092d",
   "metadata": {},
   "outputs": [
    {
     "name": "stdout",
     "output_type": "stream",
     "text": [
      "[34, 24, 12]\n"
     ]
    }
   ],
   "source": [
    "l = [12,24,34]\n",
    "new_l = list(reversed(l))\n",
    "print(new_l)"
   ]
  },
  {
   "cell_type": "code",
   "execution_count": 5,
   "id": "b87649bc-fb57-491f-b2bb-fe8b8ea1c34c",
   "metadata": {},
   "outputs": [
    {
     "name": "stdout",
     "output_type": "stream",
     "text": [
      "[34, 24, 12]\n"
     ]
    }
   ],
   "source": [
    "l = [12,24,34]\n",
    "new_l = l[::-1]\n",
    "print(new_l)\n"
   ]
  },
  {
   "cell_type": "code",
   "execution_count": 11,
   "id": "a87fba2f-4454-4ae7-a3e7-c5b30515da3b",
   "metadata": {},
   "outputs": [
    {
     "name": "stdout",
     "output_type": "stream",
     "text": [
      "[45, 34, 23, 12]\n"
     ]
    }
   ],
   "source": [
    "#reverse a list\n",
    "def rev(l):\n",
    "    s = 0\n",
    "    e = len(l) - 1\n",
    "\n",
    "    while s < e:\n",
    "        l[s],l[e] = l[e] , l[s]\n",
    "        s+=1\n",
    "        e-=1\n",
    "\n",
    "if __name__ == '__main__':\n",
    "    l = [12,23,34,45]\n",
    "    rev(l)\n",
    "    print(l)\n"
   ]
  },
  {
   "cell_type": "code",
   "execution_count": 2,
   "id": "d4cdb159-f3c4-4b34-836e-c04b06a3b4dc",
   "metadata": {},
   "outputs": [
    {
     "data": {
      "text/plain": [
       "[20, 30, 40, 10]"
      ]
     },
     "execution_count": 2,
     "metadata": {},
     "output_type": "execute_result"
    }
   ],
   "source": [
    "#left rotate an array\n",
    "\n",
    "l = [10,20,30,40]\n",
    "l = l[1:] + l[0:1]\n",
    "l"
   ]
  },
  {
   "cell_type": "code",
   "execution_count": 3,
   "id": "ef526299-88cd-4c79-90dc-9134fadd9c92",
   "metadata": {},
   "outputs": [
    {
     "data": {
      "text/plain": [
       "[20, 30, 40, 10]"
      ]
     },
     "execution_count": 3,
     "metadata": {},
     "output_type": "execute_result"
    }
   ],
   "source": [
    "l = [10,20,30,40]\n",
    "l.append(l.pop(0))\n",
    "l\n"
   ]
  },
  {
   "cell_type": "code",
   "execution_count": 7,
   "id": "16fa884a-39a0-41ca-a006-6912a718414e",
   "metadata": {},
   "outputs": [
    {
     "name": "stdout",
     "output_type": "stream",
     "text": [
      "[20, 30, 40, 10]\n"
     ]
    }
   ],
   "source": [
    "#efficient way for left rotate\n",
    "\n",
    "def leftRotate(l):\n",
    "    n = len(l)\n",
    "    x = l[0]\n",
    "    for i in range(1,n):\n",
    "        l[i-1] = l[i]\n",
    "\n",
    "    l[n-1] = x\n",
    "\n",
    "if __name__ == '__main__':\n",
    "    l = [10,20,30,40]\n",
    "    leftRotate(l)\n",
    "    print(l)"
   ]
  },
  {
   "cell_type": "code",
   "execution_count": 15,
   "id": "3e95240b-8142-46e3-a933-1fab930bf598",
   "metadata": {},
   "outputs": [
    {
     "name": "stdout",
     "output_type": "stream",
     "text": [
      "4\n",
      "[0, 20, 30, 40]\n"
     ]
    }
   ],
   "source": [
    "#remove Duplicate From list\n",
    "def remDup(arr,n):\n",
    "    temp = [0] * n\n",
    "    res = 1\n",
    "    for i in range(1,n):\n",
    "        if temp[res-1] != arr[i]:\n",
    "            temp[res] = arr[i]\n",
    "            res += 1\n",
    "\n",
    "    for i in range (0 , res):\n",
    "        arr[i] = temp[i]\n",
    "\n",
    "    return res\n",
    "\n",
    "if __name__ == '__main__':\n",
    "    l = [10,20,30,30,40,40]\n",
    "    n = len(l)\n",
    "    \n",
    "    res = remDup(l,n)\n",
    "    print(res)\n",
    "    print(l[:res])"
   ]
  },
  {
   "cell_type": "code",
   "execution_count": 21,
   "id": "062d3a7b-b0cd-47a9-b3fc-e624b2207ac0",
   "metadata": {},
   "outputs": [
    {
     "name": "stdout",
     "output_type": "stream",
     "text": [
      "[10, 20, 30, 40]\n"
     ]
    }
   ],
   "source": [
    "#efficient way of removing duplicate\n",
    "def remDup(arr,n):\n",
    "    res = 1\n",
    "    for i in range(1,n):\n",
    "        if (arr[res-1] != arr[i]):\n",
    "            arr[res] = arr[i]\n",
    "            res+= 1\n",
    "\n",
    "    return res\n",
    "\n",
    "if __name__ == '__main__':\n",
    "    l = [10,10,20,30,40,40]\n",
    "    n = len(l)\n",
    "    remDup(l,n)\n",
    "    print(l[:res])"
   ]
  },
  {
   "cell_type": "code",
   "execution_count": 25,
   "id": "a2e914b0-5ee9-427e-b631-de34692ebd32",
   "metadata": {},
   "outputs": [
    {
     "name": "stdout",
     "output_type": "stream",
     "text": [
      "4\n"
     ]
    }
   ],
   "source": [
    "l = [ 10,20,40,40,30,10,20,30]\n",
    "\n",
    "print(l.index(30,4,7))"
   ]
  },
  {
   "cell_type": "code",
   "execution_count": 29,
   "id": "6520cc94-683b-42b6-ace5-5c31f3493736",
   "metadata": {},
   "outputs": [
    {
     "data": {
      "text/plain": [
       "[]"
      ]
     },
     "execution_count": 29,
     "metadata": {},
     "output_type": "execute_result"
    }
   ],
   "source": [
    "l * 0"
   ]
  },
  {
   "cell_type": "code",
   "execution_count": 30,
   "id": "9dec8bdd-b086-455f-b4ee-0d132e861af8",
   "metadata": {},
   "outputs": [
    {
     "data": {
      "text/plain": [
       "'geeks'"
      ]
     },
     "execution_count": 30,
     "metadata": {},
     "output_type": "execute_result"
    }
   ],
   "source": [
    "s1 = \"geeks\"\n",
    "s2 = s1[:]\n",
    "s2"
   ]
  },
  {
   "cell_type": "code",
   "execution_count": null,
   "id": "232f16e8-d84c-415b-ae69-5029a7442bf9",
   "metadata": {},
   "outputs": [],
   "source": []
  }
 ],
 "metadata": {
  "kernelspec": {
   "display_name": "Python 3 (ipykernel)",
   "language": "python",
   "name": "python3"
  },
  "language_info": {
   "codemirror_mode": {
    "name": "ipython",
    "version": 3
   },
   "file_extension": ".py",
   "mimetype": "text/x-python",
   "name": "python",
   "nbconvert_exporter": "python",
   "pygments_lexer": "ipython3",
   "version": "3.12.7"
  }
 },
 "nbformat": 4,
 "nbformat_minor": 5
}
