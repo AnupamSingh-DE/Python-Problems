{
 "cells": [
  {
   "cell_type": "code",
   "execution_count": null,
   "id": "cdb82f8d-8979-4a09-b855-18c1ce8bba96",
   "metadata": {},
   "outputs": [],
   "source": [
    "# Starting With Python\n",
    "\n",
    "l1 = [10,5,3,21]\n",
    "l1.sort()\n",
    "print(l1)"
   ]
  },
  {
   "cell_type": "code",
   "execution_count": 1,
   "id": "60d86e51-c1cf-482a-a592-f5aef9094e53",
   "metadata": {},
   "outputs": [
    {
     "name": "stdout",
     "output_type": "stream",
     "text": [
      "[10, 5, 3, 1]\n"
     ]
    }
   ],
   "source": [
    "l2 = [1,5,3,10] \n",
    "l2.sort(reverse = True)\n",
    "print(l2)"
   ]
  },
  {
   "cell_type": "code",
   "execution_count": 2,
   "id": "b78c0027-ab7d-42de-9346-5039e547ce40",
   "metadata": {},
   "outputs": [
    {
     "name": "stdout",
     "output_type": "stream",
     "text": [
      "['courses', 'gfg', 'ide']\n"
     ]
    }
   ],
   "source": [
    "l3 = [\"gfg\",\"ide\",\"courses\"]\n",
    "l3.sort()\n",
    "print(l3)"
   ]
  },
  {
   "cell_type": "code",
   "execution_count": 3,
   "id": "52c95d1d-cd85-4629-956e-40d99df9e84b",
   "metadata": {},
   "outputs": [
    {
     "name": "stdout",
     "output_type": "stream",
     "text": [
      "['gfg', 'Python', 'courses']\n"
     ]
    }
   ],
   "source": [
    "#sorting on the basis of string length\n",
    "\n",
    "def myFun(n):\n",
    "    return len(n)\n",
    "\n",
    "if __name__ == '__main__':\n",
    "    l =  [\"gfg\",\"courses\",\"Python\"]\n",
    "    l.sort(key = myFun)\n",
    "    print(l)"
   ]
  },
  {
   "cell_type": "code",
   "execution_count": 4,
   "id": "7bc69dbd-952a-4910-b3a1-31431a0fe4d7",
   "metadata": {},
   "outputs": [
    {
     "name": "stdout",
     "output_type": "stream",
     "text": [
      "['courses', 'Python', 'gfg']\n"
     ]
    }
   ],
   "source": [
    "l.sort(key = myFun, reverse = True)\n",
    "print(l)"
   ]
  },
  {
   "cell_type": "code",
   "execution_count": null,
   "id": "e19bcd50-73d0-4383-8935-c3eca59eadcf",
   "metadata": {},
   "outputs": [],
   "source": [
    "# sorting using classes\n",
    "\n",
    "class point:\n",
    "    def __init__(self,x,y):\n",
    "        self.x = x\n",
    "        self.y = y\n",
    "\n",
    "def myFun(n):\n",
    "    return n.x\n",
    "\n",
    "l = [point(1,15),point(10,5),point(5,8)]\n",
    "l.sort(key = myFun)\n",
    "for i in l:\n",
    "    print(i.x,i.y)"
   ]
  },
  {
   "cell_type": "code",
   "execution_count": null,
   "id": "1b456672-41dd-4aab-b6c1-9bcc3c0df515",
   "metadata": {},
   "outputs": [],
   "source": [
    "class point:\n",
    "    def __init__(self,x,y):\n",
    "        self.x = x\n",
    "        self.y = y\n",
    "\n",
    "    def __lt__(self,other): #lt == less than\n",
    "        return self.x < other.x\n",
    "\n",
    "l = [point(1,15),point(10,5),point(5,8)]\n",
    "l.sort()\n",
    "for i in l:\n",
    "    print(i.x,i.y)"
   ]
  },
  {
   "cell_type": "code",
   "execution_count": null,
   "id": "ab9b29a3-81a5-472e-99aa-b947f82d1155",
   "metadata": {},
   "outputs": [],
   "source": [
    "class point:\n",
    "    def __init__(self,x,y):\n",
    "        self.x = x\n",
    "        self.y = y\n",
    "\n",
    "    def __lt__(self,other): #lt == less than\n",
    "        if self.x == other.x:\n",
    "            return self.y < other.y\n",
    "        else:\n",
    "            return self.x < other.x\n",
    "\n",
    "l = [point(1,15),point(10,45),point(10,8)]\n",
    "l.sort()\n",
    "for i in l:\n",
    "    print(i.x,i.y)"
   ]
  },
  {
   "cell_type": "code",
   "execution_count": null,
   "id": "a11da8fb-48f9-42b5-942c-835e2f4d9325",
   "metadata": {},
   "outputs": [],
   "source": [
    "#sorted in python \n",
    "\n",
    "l = [ 10,2,33,5]\n",
    "ls = sorted(l)\n",
    "print(ls)"
   ]
  },
  {
   "cell_type": "code",
   "execution_count": null,
   "id": "58c0ab2d-1621-41d9-b527-8bdc35e50393",
   "metadata": {},
   "outputs": [],
   "source": [
    "l = [ 10,2,33,5]\n",
    "ls = sorted(l,key = abs , reverse = True) # abs = absolute value\n",
    "print(ls)"
   ]
  },
  {
   "cell_type": "code",
   "execution_count": null,
   "id": "15597282-e551-4191-afa9-ad084fb5b671",
   "metadata": {},
   "outputs": [],
   "source": [
    "#bubble sort self(wrong)\n",
    "\n",
    "def bubbleSort(l):\n",
    "    # if not l:\n",
    "    #     return None\n",
    "    n = len(l) - 1\n",
    "    for i in range(0,n):\n",
    "        if l[i] > l[i+1]:\n",
    "            temp = l[i+1]\n",
    "            l[i+1] = l[i]\n",
    "            l[i] = temp\n",
    "        i+=1\n",
    "    bubbleSort(n-1)    \n",
    "    return l\n",
    "\n",
    "if __name__ == '__main__':\n",
    "    l = [11,23,21,10]\n",
    "    print(bubbleSort(l))\n",
    " "
   ]
  },
  {
   "cell_type": "code",
   "execution_count": null,
   "id": "4586fdb9-727e-447d-80c9-b7a1b5499d8b",
   "metadata": {},
   "outputs": [],
   "source": [
    "#Bubble Sort\n",
    "def bubbleSort(l):\n",
    "    n = len(l)\n",
    "    for i in range(n-1):\n",
    "        print(\"i\",i, end = \" \")\n",
    "        print(\"j\")\n",
    "        for j in range(n-i-1): #in each iteration we are fixing 1 element so we are i in each iteration \n",
    "            print(j, end = \" \")\n",
    "            if l[j] > l[j+1]:\n",
    "                l[j],l[j+1] = l[j+1],l[j]\n",
    "\n",
    "    print()\n",
    "    return l\n",
    "if __name__ == '__main__':\n",
    "    l = [10,8,20,5]\n",
    "    print(bubbleSort(l))\n"
   ]
  },
  {
   "cell_type": "code",
   "execution_count": null,
   "id": "dabcd179-6598-4820-b8cf-58813e8113e4",
   "metadata": {},
   "outputs": [],
   "source": [
    "#Selection Sort\n",
    "def selectSort(l):\n",
    "    n =len(l) \n",
    "    for i in range(n-1):\n",
    "        min_ind = i\n",
    "        for j in range(i+1,n):\n",
    "            if l[min_ind] > l[j]:\n",
    "                min_ind = j\n",
    "\n",
    "        l[min_ind],l[i] = l[i],l[min_ind]\n",
    "\n",
    "    return l\n",
    "\n",
    "if __name__ == '__main__':\n",
    "    l = [12,23,21,3,4]\n",
    "    print(selectSort(l))"
   ]
  },
  {
   "cell_type": "code",
   "execution_count": null,
   "id": "debc1d2a-06a4-4ec2-a0b1-c2f4fdbc51a3",
   "metadata": {},
   "outputs": [],
   "source": [
    "#insertion Sort\n",
    "\n",
    "def insertionSort(l):\n",
    "    n = len(l)\n",
    "    for i in range(1,n):\n",
    "        x = l[i]\n",
    "        j = i - 1\n",
    "        while j >= 0 and x < l[j]:\n",
    "            l[j + 1] = l[j]\n",
    "            j = j - 1\n",
    "        l[j+1] = x    \n",
    "    return l\n",
    "if __name__ == '__main__':\n",
    "    l = [12,23,21,3,4]\n",
    "    print(insertionSort(l))"
   ]
  },
  {
   "cell_type": "code",
   "execution_count": null,
   "id": "b2953227-afda-4c55-9437-559e9ad6450e",
   "metadata": {},
   "outputs": [],
   "source": [
    "#merge two sorted arrays or lists\n",
    "l = [ 1,2,3,4,5]\n",
    "l1 = [6,7,8,9]\n",
    "\n",
    "l3 = l1 + l"
   ]
  },
  {
   "cell_type": "code",
   "execution_count": null,
   "id": "a903f641-d33c-497c-b7df-521b34e4fcc0",
   "metadata": {},
   "outputs": [],
   "source": [
    "l3.sort()\n",
    "l3"
   ]
  },
  {
   "cell_type": "code",
   "execution_count": null,
   "id": "db86941f-33a6-4b00-865b-8c58809a1639",
   "metadata": {},
   "outputs": [],
   "source": [
    "#Trying a efficient Way didnt work well\n",
    "def mergeTwoLists(a,b):\n",
    "    l2 = []\n",
    "    for i in range(0,len(a)):\n",
    "        for j in range(0,len(b)):\n",
    "            if a[i] < b[j]:\n",
    "                l2.append(a[i])\n",
    "                continue\n",
    "\n",
    "            else:\n",
    "                l2.append(b[j])\n",
    "                continue\n",
    "\n",
    "    return l2\n",
    "\n",
    "if __name__ == '__main__':\n",
    "    l = [ 1,2,4,5]\n",
    "    l1 = [6,7,8,9]\n",
    "    print(mergeTwoLists(l1,l))"
   ]
  },
  {
   "cell_type": "code",
   "execution_count": null,
   "id": "ebe9bdab-8bf3-4cf6-a1f9-b33203688cc0",
   "metadata": {},
   "outputs": [],
   "source": [
    "#merge two lists\n",
    "\n",
    "def mergeTwoLists(a,b):\n",
    "    res = []\n",
    "    m = len(a)\n",
    "    n = len(b)\n",
    "    i = 0\n",
    "    j = 0\n",
    "\n",
    "    while i < m and j < n:\n",
    "        if a[i] < b[j]:\n",
    "            res.append(a[i])\n",
    "            i += 1\n",
    "\n",
    "        else:\n",
    "            res.append(b[j])\n",
    "            j += 1\n",
    "\n",
    "    while i < m:\n",
    "        res.append(a[i])\n",
    "        i += 1\n",
    "\n",
    "    while j < n:\n",
    "        res.append(b[j])\n",
    "        j += 1\n",
    "\n",
    "    return res\n",
    "\n",
    "if __name__ == '__main__':\n",
    "    l = [ 1,2,4,5]\n",
    "    l1 = [6,7,8,9]\n",
    "    print(mergeTwoLists(l1,l))"
   ]
  },
  {
   "cell_type": "code",
   "execution_count": null,
   "id": "1e246256-5b15-44de-b436-a18fa9de5082",
   "metadata": {},
   "outputs": [],
   "source": [
    "#merge subarrays\n",
    "\n",
    "def mergeSubArrays(l,low,high,mid):\n",
    "    left = l[low:mid+1]\n",
    "    right = l[mid + 1 : high + 1]\n",
    "    k = low\n",
    "    m = len(left)\n",
    "    n = len(right)\n",
    "    i = 0\n",
    "    j = 0\n",
    "    \n",
    "    while i < m and j < n:\n",
    "        if left[i] <= right[j]:   #this condition is require to have stable merge process\n",
    "            l[k] = left[i]\n",
    "            k += 1\n",
    "            i += 1\n",
    "\n",
    "        else:\n",
    "            l[k] = right[j]\n",
    "            k += 1\n",
    "            j += 1\n",
    "\n",
    "    while i < m:\n",
    "        l[k] = left[i]\n",
    "        k += 1\n",
    "        i += 1\n",
    "\n",
    "    while j < n:\n",
    "        l[k] = right[j]\n",
    "        k += 1\n",
    "        j += 1\n",
    "    return l      \n",
    "            \n",
    "\n",
    "if __name__ == '__main__':\n",
    "    l = [12,23,34,1,2,3]\n",
    "    low = 0\n",
    "    high = len(l) - 1\n",
    "    mid = (low + high)//2\n",
    "    print(mergeSubArrays(l,low,high,mid))"
   ]
  },
  {
   "cell_type": "code",
   "execution_count": null,
   "id": "985fbe7c-992e-4b0d-af0f-281eacc40335",
   "metadata": {},
   "outputs": [],
   "source": [
    "# MergeSort\n",
    "\n",
    "def mergeSort(l,low,high):\n",
    "    if high > low:\n",
    "        mid = (low+high)//2\n",
    "        mergeSort(l,low,mid)\n",
    "        mergeSort(l,mid+1,high)\n",
    "        mergeArray(l,low,high,mid)\n",
    "\n",
    "    return l\n",
    "\n",
    "def mergeArray(l,low,high,mid):\n",
    "    left = l[low:mid+1]\n",
    "    right = l[mid+1:high+1]\n",
    "    m = len(left)\n",
    "    n = len(right)\n",
    "    i = 0\n",
    "    j = 0\n",
    "    k = low\n",
    "    while i < m and j < n:\n",
    "        if left[i] < right[j]:\n",
    "            l[k] = left[i]\n",
    "            k+=1\n",
    "            i+=1\n",
    "\n",
    "        else:\n",
    "            l[k] = right[j]\n",
    "            k+=1\n",
    "            j+=1\n",
    "\n",
    "    while i < m:\n",
    "        l[k] = left[i]\n",
    "        k+=1\n",
    "        i+=1\n",
    "    while j < n:\n",
    "        l[k] = right[j]\n",
    "        k+=1\n",
    "        j+=1\n",
    "    return l            \n",
    "       \n",
    "    \n",
    "if __name__ == '__main__':\n",
    "    l = [10,5,30,15,7]\n",
    "    low = 0\n",
    "    high = len(l)\n",
    "    print(mergeSort(l,low,high))\n",
    "    \n",
    "    "
   ]
  },
  {
   "cell_type": "code",
   "execution_count": null,
   "id": "04f5bc37-a829-456e-a781-e61e6ef5519c",
   "metadata": {},
   "outputs": [],
   "source": [
    "#merge subarrays\n",
    "\n",
    "def mergeSubArrays(l,low,high,mid):\n",
    "    left = l[low:mid+1]\n",
    "    right = l[mid + 1 : high + 1]\n",
    "    k = low\n",
    "    m = len(left)\n",
    "    n = len(right)\n",
    "    i = 0\n",
    "    j = 0\n",
    "    \n",
    "    while i < m and j < n:\n",
    "        \n",
    "        \n",
    "        if left[i] <= right[j]:   #this condition is require to have stable merge process\n",
    "            l[k] = left[i]\n",
    "            k += 1\n",
    "            i += 1\n",
    "\n",
    "        else:\n",
    "            l[k] = right[j]\n",
    "            k += 1\n",
    "            j += 1\n",
    "\n",
    "    while i < m:\n",
    "        l[k] = left[i]\n",
    "        k += 1\n",
    "        i += 1\n",
    "\n",
    "    while j < n:\n",
    "        l[k] = right[j]\n",
    "        k += 1\n",
    "        j += 1\n",
    "    return l      \n",
    "            \n",
    "\n",
    "if __name__ == '__main__':\n",
    "    l = [12,23,34,1,2,3]\n",
    "    low = 0\n",
    "    high = len(l) - 1\n",
    "    mid = (low + high)//2\n",
    "    print(mergeSubArrays(l,low,high,mid))"
   ]
  },
  {
   "cell_type": "code",
   "execution_count": null,
   "id": "a164c7d2-f8e4-446a-a5ba-4f31b79e4b93",
   "metadata": {},
   "outputs": [],
   "source": [
    "#print union \n",
    "\n",
    "def printUnion(a,b):\n",
    "    c = a + b\n",
    "    c.sort()\n",
    "    for i in range(0,len(c)):\n",
    "        if i == 0 or c[i] != c[i-1]:\n",
    "            print(c[i] , end =\" \" )\n",
    "\n",
    "    return None\n",
    "\n",
    "\n",
    "if __name__ == '__main__':\n",
    "    a = [1,2,3,4]\n",
    "    b = [3,4,5,6]\n",
    "    print(printUnion(a,b))"
   ]
  },
  {
   "cell_type": "code",
   "execution_count": 4,
   "id": "defbd2cb-5e94-4135-b5cd-63488d2aa0f0",
   "metadata": {},
   "outputs": [
    {
     "name": "stdout",
     "output_type": "stream",
     "text": [
      "1 2 3 4 5 6 \n",
      "None\n"
     ]
    }
   ],
   "source": [
    "#print union (efficient code)\n",
    "\n",
    "def printUnion(a,b):\n",
    "    i = 0\n",
    "    j = 0\n",
    "    while i < len(a) and j < len(b):\n",
    "        if i > 0 and a[i] == a[i -1 ]:\n",
    "            i += 1\n",
    "\n",
    "        elif j > 0 and b[j] == b[ j - 1]:\n",
    "            j += 1\n",
    "\n",
    "        elif a[i] < b[j]:\n",
    "            print(a[i] , end = \" \" )\n",
    "            i += 1\n",
    "        elif a[i] > b [j]:\n",
    "            print(b[j] , end = \" \" )\n",
    "            j += 1\n",
    "        elif a[i] == b[j]:\n",
    "            print(a[i] , end = \" \")\n",
    "            i += 1\n",
    "            j += 1\n",
    "\n",
    "    while i < len(a):\n",
    "         if i > 0 and a[i] != a[i -1 ]:\n",
    "             print(a[i] , end = \" \")\n",
    "         i += 1\n",
    "\n",
    "    while j < len(b):\n",
    "         if j > 0 and b[j] != b[j - 1 ]:\n",
    "             print(b[j] , end = \" \" )\n",
    "         j += 1\n",
    "\n",
    "    print()\n",
    "   \n",
    "             \n",
    "if __name__ == '__main__':\n",
    "    a = [1,2,3,4]\n",
    "    b = [3,4,5,6]\n",
    "    print(printUnion(a,b))\n",
    "    \n",
    "\n"
   ]
  },
  {
   "cell_type": "code",
   "execution_count": null,
   "id": "ec21c7d8-d6b2-4460-99e6-087662ed2125",
   "metadata": {},
   "outputs": [],
   "source": []
  },
  {
   "cell_type": "code",
   "execution_count": null,
   "id": "52d13c29-f09d-4dd3-be3e-3b4020e4a286",
   "metadata": {},
   "outputs": [],
   "source": []
  },
  {
   "cell_type": "code",
   "execution_count": null,
   "id": "1f6896b7-b899-4929-8d03-764c134170b9",
   "metadata": {},
   "outputs": [],
   "source": []
  },
  {
   "cell_type": "code",
   "execution_count": null,
   "id": "fc4a6729-0769-4282-b615-7f68867ccd3d",
   "metadata": {},
   "outputs": [],
   "source": []
  },
  {
   "cell_type": "code",
   "execution_count": null,
   "id": "60e82917-6d69-4e36-b70a-a10b6e833e2f",
   "metadata": {},
   "outputs": [],
   "source": []
  },
  {
   "cell_type": "code",
   "execution_count": null,
   "id": "413bab31-4c25-4018-b997-4f73f87f905f",
   "metadata": {},
   "outputs": [],
   "source": []
  },
  {
   "cell_type": "code",
   "execution_count": null,
   "id": "e938c269-e69d-4239-933b-a10f715a5f63",
   "metadata": {},
   "outputs": [],
   "source": []
  },
  {
   "cell_type": "code",
   "execution_count": null,
   "id": "2933b09b-9520-4b02-aa5c-9a3648b728dc",
   "metadata": {},
   "outputs": [],
   "source": []
  },
  {
   "cell_type": "code",
   "execution_count": null,
   "id": "385d4744-a6c0-4175-b152-c5f934d1e0e5",
   "metadata": {},
   "outputs": [],
   "source": []
  },
  {
   "cell_type": "code",
   "execution_count": null,
   "id": "d4c842d5-cdca-4883-a3ae-f661b543bdaf",
   "metadata": {},
   "outputs": [],
   "source": []
  }
 ],
 "metadata": {
  "kernelspec": {
   "display_name": "Python 3 (ipykernel)",
   "language": "python",
   "name": "python3"
  },
  "language_info": {
   "codemirror_mode": {
    "name": "ipython",
    "version": 3
   },
   "file_extension": ".py",
   "mimetype": "text/x-python",
   "name": "python",
   "nbconvert_exporter": "python",
   "pygments_lexer": "ipython3",
   "version": "3.12.7"
  }
 },
 "nbformat": 4,
 "nbformat_minor": 5
}
