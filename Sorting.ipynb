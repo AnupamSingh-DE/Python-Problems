{
 "cells": [
  {
   "cell_type": "code",
   "execution_count": 1,
   "id": "cdb82f8d-8979-4a09-b855-18c1ce8bba96",
   "metadata": {},
   "outputs": [
    {
     "name": "stdout",
     "output_type": "stream",
     "text": [
      "[3, 5, 10, 21]\n"
     ]
    }
   ],
   "source": [
    "# Starting With Python\n",
    "\n",
    "l1 = [10,5,3,21]\n",
    "l1.sort()\n",
    "print(l1)"
   ]
  },
  {
   "cell_type": "code",
   "execution_count": 2,
   "id": "60d86e51-c1cf-482a-a592-f5aef9094e53",
   "metadata": {},
   "outputs": [
    {
     "name": "stdout",
     "output_type": "stream",
     "text": [
      "[10, 5, 3, 1]\n"
     ]
    }
   ],
   "source": [
    "l2 = [1,5,3,10] \n",
    "l2.sort(reverse = True)\n",
    "print(l2)"
   ]
  },
  {
   "cell_type": "code",
   "execution_count": 3,
   "id": "b78c0027-ab7d-42de-9346-5039e547ce40",
   "metadata": {},
   "outputs": [
    {
     "name": "stdout",
     "output_type": "stream",
     "text": [
      "['courses', 'gfg', 'ide']\n"
     ]
    }
   ],
   "source": [
    "l3 = [\"gfg\",\"ide\",\"courses\"]\n",
    "l3.sort()\n",
    "print(l3)"
   ]
  },
  {
   "cell_type": "code",
   "execution_count": 4,
   "id": "52c95d1d-cd85-4629-956e-40d99df9e84b",
   "metadata": {},
   "outputs": [
    {
     "name": "stdout",
     "output_type": "stream",
     "text": [
      "['gfg', 'Python', 'courses']\n"
     ]
    }
   ],
   "source": [
    "#sorting on the basis of string length\n",
    "\n",
    "def myFun(n):\n",
    "    return len(n)\n",
    "\n",
    "if __name__ == '__main__':\n",
    "    l =  [\"gfg\",\"courses\",\"Python\"]\n",
    "    l.sort(key = myFun)\n",
    "    print(l)"
   ]
  },
  {
   "cell_type": "code",
   "execution_count": 5,
   "id": "7bc69dbd-952a-4910-b3a1-31431a0fe4d7",
   "metadata": {},
   "outputs": [
    {
     "name": "stdout",
     "output_type": "stream",
     "text": [
      "['courses', 'Python', 'gfg']\n"
     ]
    }
   ],
   "source": [
    "l.sort(key = myFun, reverse = True)\n",
    "print(l)"
   ]
  },
  {
   "cell_type": "code",
   "execution_count": 6,
   "id": "e19bcd50-73d0-4383-8935-c3eca59eadcf",
   "metadata": {},
   "outputs": [
    {
     "name": "stdout",
     "output_type": "stream",
     "text": [
      "1 15\n",
      "5 8\n",
      "10 5\n"
     ]
    }
   ],
   "source": [
    "# sorting using classes\n",
    "\n",
    "class point:\n",
    "    def __init__(self,x,y):\n",
    "        self.x = x\n",
    "        self.y = y\n",
    "\n",
    "def myFun(n):\n",
    "    return n.x\n",
    "\n",
    "l = [point(1,15),point(10,5),point(5,8)]\n",
    "l.sort(key = myFun)\n",
    "for i in l:\n",
    "    print(i.x,i.y)"
   ]
  },
  {
   "cell_type": "code",
   "execution_count": 7,
   "id": "1b456672-41dd-4aab-b6c1-9bcc3c0df515",
   "metadata": {},
   "outputs": [
    {
     "name": "stdout",
     "output_type": "stream",
     "text": [
      "1 15\n",
      "5 8\n",
      "10 5\n"
     ]
    }
   ],
   "source": [
    "class point:\n",
    "    def __init__(self,x,y):\n",
    "        self.x = x\n",
    "        self.y = y\n",
    "\n",
    "    def __lt__(self,other): #lt == less than\n",
    "        return self.x < other.x\n",
    "\n",
    "l = [point(1,15),point(10,5),point(5,8)]\n",
    "l.sort()\n",
    "for i in l:\n",
    "    print(i.x,i.y)"
   ]
  },
  {
   "cell_type": "code",
   "execution_count": 8,
   "id": "ab9b29a3-81a5-472e-99aa-b947f82d1155",
   "metadata": {},
   "outputs": [
    {
     "name": "stdout",
     "output_type": "stream",
     "text": [
      "1 15\n",
      "10 8\n",
      "10 45\n"
     ]
    }
   ],
   "source": [
    "class point:\n",
    "    def __init__(self,x,y):\n",
    "        self.x = x\n",
    "        self.y = y\n",
    "\n",
    "    def __lt__(self,other): #lt == less than\n",
    "        if self.x == other.x:\n",
    "            return self.y < other.y\n",
    "        else:\n",
    "            return self.x < other.x\n",
    "\n",
    "l = [point(1,15),point(10,45),point(10,8)]\n",
    "l.sort()\n",
    "for i in l:\n",
    "    print(i.x,i.y)"
   ]
  },
  {
   "cell_type": "code",
   "execution_count": 9,
   "id": "a11da8fb-48f9-42b5-942c-835e2f4d9325",
   "metadata": {},
   "outputs": [
    {
     "name": "stdout",
     "output_type": "stream",
     "text": [
      "[2, 5, 10, 33]\n"
     ]
    }
   ],
   "source": [
    "#sorted in python \n",
    "\n",
    "l = [ 10,2,33,5]\n",
    "ls = sorted(l)\n",
    "print(ls)"
   ]
  },
  {
   "cell_type": "code",
   "execution_count": 10,
   "id": "58c0ab2d-1621-41d9-b527-8bdc35e50393",
   "metadata": {},
   "outputs": [
    {
     "name": "stdout",
     "output_type": "stream",
     "text": [
      "[33, 10, 5, 2]\n"
     ]
    }
   ],
   "source": [
    "l = [ 10,2,33,5]\n",
    "ls = sorted(l,key = abs , reverse = True) # abs = absolute value\n",
    "print(ls)"
   ]
  },
  {
   "cell_type": "code",
   "execution_count": 11,
   "id": "15597282-e551-4191-afa9-ad084fb5b671",
   "metadata": {},
   "outputs": [
    {
     "ename": "TypeError",
     "evalue": "object of type 'int' has no len()",
     "output_type": "error",
     "traceback": [
      "\u001b[1;31m---------------------------------------------------------------------------\u001b[0m",
      "\u001b[1;31mTypeError\u001b[0m                                 Traceback (most recent call last)",
      "Cell \u001b[1;32mIn[11], line 18\u001b[0m\n\u001b[0;32m     16\u001b[0m \u001b[38;5;28;01mif\u001b[39;00m \u001b[38;5;18m__name__\u001b[39m \u001b[38;5;241m==\u001b[39m \u001b[38;5;124m'\u001b[39m\u001b[38;5;124m__main__\u001b[39m\u001b[38;5;124m'\u001b[39m:\n\u001b[0;32m     17\u001b[0m     l \u001b[38;5;241m=\u001b[39m [\u001b[38;5;241m11\u001b[39m,\u001b[38;5;241m23\u001b[39m,\u001b[38;5;241m21\u001b[39m,\u001b[38;5;241m10\u001b[39m]\n\u001b[1;32m---> 18\u001b[0m     \u001b[38;5;28mprint\u001b[39m(bubbleSort(l))\n",
      "Cell \u001b[1;32mIn[11], line 13\u001b[0m, in \u001b[0;36mbubbleSort\u001b[1;34m(l)\u001b[0m\n\u001b[0;32m     11\u001b[0m         l[i] \u001b[38;5;241m=\u001b[39m temp\n\u001b[0;32m     12\u001b[0m     i\u001b[38;5;241m+\u001b[39m\u001b[38;5;241m=\u001b[39m\u001b[38;5;241m1\u001b[39m\n\u001b[1;32m---> 13\u001b[0m bubbleSort(n\u001b[38;5;241m-\u001b[39m\u001b[38;5;241m1\u001b[39m)    \n\u001b[0;32m     14\u001b[0m \u001b[38;5;28;01mreturn\u001b[39;00m l\n",
      "Cell \u001b[1;32mIn[11], line 6\u001b[0m, in \u001b[0;36mbubbleSort\u001b[1;34m(l)\u001b[0m\n\u001b[0;32m      3\u001b[0m \u001b[38;5;28;01mdef\u001b[39;00m \u001b[38;5;21mbubbleSort\u001b[39m(l):\n\u001b[0;32m      4\u001b[0m     \u001b[38;5;66;03m# if not l:\u001b[39;00m\n\u001b[0;32m      5\u001b[0m     \u001b[38;5;66;03m#     return None\u001b[39;00m\n\u001b[1;32m----> 6\u001b[0m     n \u001b[38;5;241m=\u001b[39m \u001b[38;5;28mlen\u001b[39m(l) \u001b[38;5;241m-\u001b[39m \u001b[38;5;241m1\u001b[39m\n\u001b[0;32m      7\u001b[0m     \u001b[38;5;28;01mfor\u001b[39;00m i \u001b[38;5;129;01min\u001b[39;00m \u001b[38;5;28mrange\u001b[39m(\u001b[38;5;241m0\u001b[39m,n):\n\u001b[0;32m      8\u001b[0m         \u001b[38;5;28;01mif\u001b[39;00m l[i] \u001b[38;5;241m>\u001b[39m l[i\u001b[38;5;241m+\u001b[39m\u001b[38;5;241m1\u001b[39m]:\n",
      "\u001b[1;31mTypeError\u001b[0m: object of type 'int' has no len()"
     ]
    }
   ],
   "source": [
    "#bubble sort self(wrong)\n",
    "\n",
    "def bubbleSort(l):\n",
    "    # if not l:\n",
    "    #     return None\n",
    "    n = len(l) - 1\n",
    "    for i in range(0,n):\n",
    "        if l[i] > l[i+1]:\n",
    "            temp = l[i+1]\n",
    "            l[i+1] = l[i]\n",
    "            l[i] = temp\n",
    "        i+=1\n",
    "    bubbleSort(n-1)    \n",
    "    return l\n",
    "\n",
    "if __name__ == '__main__':\n",
    "    l = [11,23,21,10]\n",
    "    print(bubbleSort(l))\n",
    " "
   ]
  },
  {
   "cell_type": "code",
   "execution_count": 14,
   "id": "4586fdb9-727e-447d-80c9-b7a1b5499d8b",
   "metadata": {},
   "outputs": [
    {
     "name": "stdout",
     "output_type": "stream",
     "text": [
      "i 0 j 0 1 2 i 1 j 0 1 i 2 j 0 [5, 8, 10, 20]\n"
     ]
    }
   ],
   "source": [
    "#Bubble Sort\n",
    "def bubbleSort(l):\n",
    "    n = len(l)\n",
    "    for i in range(n-1):\n",
    "        print(\"i\",i, end = \" \")\n",
    "        print(\"j\", end = \" \")\n",
    "        for j in range(n-i-1): #in each iteration we are fixing 1 element so we are reducing i in each iteration \n",
    "            print(j, end = \" \")\n",
    "            if l[j] > l[j+1]:\n",
    "                l[j],l[j+1] = l[j+1],l[j]\n",
    "\n",
    "    \n",
    "    return l\n",
    "if __name__ == '__main__':\n",
    "    l = [10,8,20,5]\n",
    "    print(bubbleSort(l))\n"
   ]
  },
  {
   "cell_type": "code",
   "execution_count": 15,
   "id": "dabcd179-6598-4820-b8cf-58813e8113e4",
   "metadata": {},
   "outputs": [
    {
     "name": "stdout",
     "output_type": "stream",
     "text": [
      "[3, 4, 12, 21, 23]\n"
     ]
    }
   ],
   "source": [
    "#Selection Sort\n",
    "def selectSort(l):\n",
    "    n =len(l) \n",
    "    for i in range(n-1):\n",
    "        min_ind = i\n",
    "        for j in range(i+1,n):\n",
    "            if l[min_ind] > l[j]:\n",
    "                min_ind = j\n",
    "\n",
    "        l[min_ind],l[i] = l[i],l[min_ind]\n",
    "\n",
    "    return l\n",
    "\n",
    "if __name__ == '__main__':\n",
    "    l = [12,23,21,3,4]\n",
    "    print(selectSort(l))"
   ]
  },
  {
   "cell_type": "code",
   "execution_count": 16,
   "id": "debc1d2a-06a4-4ec2-a0b1-c2f4fdbc51a3",
   "metadata": {},
   "outputs": [
    {
     "name": "stdout",
     "output_type": "stream",
     "text": [
      "[3, 4, 12, 21, 23]\n"
     ]
    }
   ],
   "source": [
    "#insertion Sort\n",
    "\n",
    "def insertionSort(l):\n",
    "    n = len(l)\n",
    "    for i in range(1,n):\n",
    "        x = l[i]\n",
    "        j = i - 1\n",
    "        while j >= 0 and x < l[j]:\n",
    "            l[j + 1] = l[j]\n",
    "            j = j - 1\n",
    "        l[j+1] = x    \n",
    "    return l\n",
    "if __name__ == '__main__':\n",
    "    l = [12,23,21,3,4]\n",
    "    print(insertionSort(l))"
   ]
  },
  {
   "cell_type": "code",
   "execution_count": 17,
   "id": "b2953227-afda-4c55-9437-559e9ad6450e",
   "metadata": {},
   "outputs": [],
   "source": [
    "#merge two sorted arrays or lists\n",
    "l = [ 1,2,3,4,5]\n",
    "l1 = [6,7,8,9]\n",
    "\n",
    "l3 = l1 + l"
   ]
  },
  {
   "cell_type": "code",
   "execution_count": 18,
   "id": "a903f641-d33c-497c-b7df-521b34e4fcc0",
   "metadata": {},
   "outputs": [
    {
     "data": {
      "text/plain": [
       "[1, 2, 3, 4, 5, 6, 7, 8, 9]"
      ]
     },
     "execution_count": 18,
     "metadata": {},
     "output_type": "execute_result"
    }
   ],
   "source": [
    "l3.sort()\n",
    "l3"
   ]
  },
  {
   "cell_type": "code",
   "execution_count": 19,
   "id": "db86941f-33a6-4b00-865b-8c58809a1639",
   "metadata": {},
   "outputs": [
    {
     "name": "stdout",
     "output_type": "stream",
     "text": [
      "[1, 2, 4, 5, 1, 2, 4, 5, 1, 2, 4, 5, 1, 2, 4, 5]\n"
     ]
    }
   ],
   "source": [
    "#Trying a efficient Way didnt work well\n",
    "def mergeTwoLists(a,b):\n",
    "    l2 = []\n",
    "    for i in range(0,len(a)):\n",
    "        for j in range(0,len(b)):\n",
    "            if a[i] < b[j]:\n",
    "                l2.append(a[i])\n",
    "                continue\n",
    "\n",
    "            else:\n",
    "                l2.append(b[j])\n",
    "                continue\n",
    "\n",
    "    return l2\n",
    "\n",
    "if __name__ == '__main__':\n",
    "    l = [ 1,2,4,5]\n",
    "    l1 = [6,7,8,9]\n",
    "    print(mergeTwoLists(l1,l))"
   ]
  },
  {
   "cell_type": "code",
   "execution_count": 20,
   "id": "ebe9bdab-8bf3-4cf6-a1f9-b33203688cc0",
   "metadata": {},
   "outputs": [
    {
     "name": "stdout",
     "output_type": "stream",
     "text": [
      "[1, 2, 4, 5, 6, 7, 8, 9]\n"
     ]
    }
   ],
   "source": [
    "#merge two lists\n",
    "\n",
    "def mergeTwoLists(a,b):\n",
    "    res = []\n",
    "    m = len(a)\n",
    "    n = len(b)\n",
    "    i = 0\n",
    "    j = 0\n",
    "\n",
    "    while i < m and j < n:\n",
    "        if a[i] < b[j]:\n",
    "            res.append(a[i])\n",
    "            i += 1\n",
    "\n",
    "        else:\n",
    "            res.append(b[j])\n",
    "            j += 1\n",
    "\n",
    "    while i < m:\n",
    "        res.append(a[i])\n",
    "        i += 1\n",
    "\n",
    "    while j < n:\n",
    "        res.append(b[j])\n",
    "        j += 1\n",
    "\n",
    "    return res\n",
    "\n",
    "if __name__ == '__main__':\n",
    "    l = [ 1,2,4,5]\n",
    "    l1 = [6,7,8,9]\n",
    "    print(mergeTwoLists(l1,l))"
   ]
  },
  {
   "cell_type": "code",
   "execution_count": 28,
   "id": "1e246256-5b15-44de-b436-a18fa9de5082",
   "metadata": {},
   "outputs": [
    {
     "name": "stdout",
     "output_type": "stream",
     "text": [
      "[1, 2, 3, 12, 23, 34]\n"
     ]
    }
   ],
   "source": [
    "#merge subarrays\n",
    "\n",
    "def mergeSubArrays(l,low,high,mid):\n",
    "    left = l[low:mid+1]\n",
    "    right = l[mid + 1 : high + 1]\n",
    "    k = low\n",
    "    m = len(left)\n",
    "    n = len(right)\n",
    "    i = 0\n",
    "    j = 0\n",
    "    \n",
    "    while i < m and j < n:\n",
    "        if left[i] <= right[j]:   #this condition is require to have stable merge process\n",
    "            l[k] = left[i]\n",
    "            k += 1\n",
    "            i += 1\n",
    "\n",
    "        else:\n",
    "            l[k] = right[j]\n",
    "            k += 1\n",
    "            j += 1\n",
    "\n",
    "    while i < m:\n",
    "        l[k] = left[i]\n",
    "        k += 1\n",
    "        i += 1\n",
    "\n",
    "    while j < n:\n",
    "        l[k] = right[j]\n",
    "        k += 1\n",
    "        j += 1\n",
    "    return l      \n",
    "            \n",
    "\n",
    "if __name__ == '__main__':\n",
    "    l = [12,23,34,1,2,3]\n",
    "    low = 0\n",
    "    high = len(l) - 1\n",
    "    mid = (low + high)//2\n",
    "    print(mergeSubArrays(l,low,high,mid))"
   ]
  },
  {
   "cell_type": "code",
   "execution_count": null,
   "id": "a164c7d2-f8e4-446a-a5ba-4f31b79e4b93",
   "metadata": {},
   "outputs": [],
   "source": [
    "#print union \n",
    "\n",
    "def printUnion(a,b):\n",
    "    c = a + b\n",
    "    c.sort()\n",
    "    for i in range(0,len(c)):\n",
    "        if i == 0 or c[i] != c[i-1]:\n",
    "            print(c[i] , end =\" \" )\n",
    "\n",
    "    return None\n",
    "\n",
    "\n",
    "if __name__ == '__main__':\n",
    "    a = [1,2,3,4]\n",
    "    b = [3,4,5,6]\n",
    "    print(printUnion(a,b))"
   ]
  },
  {
   "cell_type": "code",
   "execution_count": 1,
   "id": "defbd2cb-5e94-4135-b5cd-63488d2aa0f0",
   "metadata": {},
   "outputs": [
    {
     "name": "stdout",
     "output_type": "stream",
     "text": [
      "1 2 3 4 5 6 \n",
      "None\n"
     ]
    }
   ],
   "source": [
    "#print union (efficient code)\n",
    "\n",
    "def printUnion(a,b):\n",
    "    i = 0\n",
    "    j = 0\n",
    "    while i < len(a) and j < len(b):\n",
    "        if i > 0 and a[i] == a[ i -1 ]:\n",
    "            i += 1\n",
    "\n",
    "        elif j > 0 and b[j] == b[ j - 1]:\n",
    "            j += 1\n",
    "\n",
    "        elif a[i] < b[j]:\n",
    "            print(a[i] , end = \" \" )\n",
    "            i += 1\n",
    "        elif a[i] > b [j]:\n",
    "            print(b[j] , end = \" \" )\n",
    "            j += 1\n",
    "        elif a[i] == b[j]:\n",
    "            print(a[i] , end = \" \")\n",
    "            i += 1\n",
    "            j += 1\n",
    "\n",
    "    while i < len(a):\n",
    "         if i > 0 and a[i] != a[i -1 ]:\n",
    "             print(a[i] , end = \" \")\n",
    "         i += 1\n",
    "\n",
    "    while j < len(b):\n",
    "         if j > 0 and b[j] != b[j - 1 ]:\n",
    "             print(b[j] , end = \" \" )\n",
    "         j += 1\n",
    "\n",
    "    print()\n",
    "   \n",
    "             \n",
    "if __name__ == '__main__':\n",
    "    a = [1,2,3,4]\n",
    "    b = [3,4,5,6]\n",
    "    print(printUnion(a,b))\n",
    "    \n",
    "\n"
   ]
  },
  {
   "cell_type": "code",
   "execution_count": 1,
   "id": "ec21c7d8-d6b2-4460-99e6-087662ed2125",
   "metadata": {},
   "outputs": [],
   "source": [
    "#mergeSort"
   ]
  },
  {
   "cell_type": "code",
   "execution_count": 13,
   "id": "52d13c29-f09d-4dd3-be3e-3b4020e4a286",
   "metadata": {},
   "outputs": [
    {
     "name": "stdout",
     "output_type": "stream",
     "text": [
      "The Sorted array is[8, 9, 12, 20, 21, 21, 67]\n"
     ]
    }
   ],
   "source": [
    "def mergeSort(a, low , high):\n",
    "    if low < high:\n",
    "        mid = (low + high) // 2\n",
    "        mergeSort(a , low , mid )\n",
    "        mergeSort(a , mid + 1 , high)\n",
    "        mergeArray(a , low , high , mid)\n",
    "    return a\n",
    "    \n",
    "\n",
    "def mergeArray(a , low , high , mid):\n",
    "    left = a[low:mid+1]\n",
    "    right = a[mid + 1: high + 1]\n",
    "    i = 0\n",
    "    j = 0\n",
    "    k = low\n",
    "    while i < len(left) and j < len(right):\n",
    "        if left[i] < right[j]:\n",
    "            a[k] = left[i]\n",
    "            i += 1\n",
    "            k += 1\n",
    "        else:\n",
    "            a[k] = right[j]\n",
    "            j += 1\n",
    "            k += 1\n",
    "\n",
    "    while i < len(left):\n",
    "        a[k] = left[i]\n",
    "        i += 1\n",
    "        k += 1\n",
    "    while j < len(right):\n",
    "        a[k] = right[j]\n",
    "        k += 1\n",
    "        j += 1\n",
    "\n",
    "    return a\n",
    "\n",
    "if __name__ == '__main__':\n",
    "    a = [12,21,20,21,67,8,9]\n",
    "    low = 0\n",
    "    high = len(a) - 1\n",
    "    res = mergeSort(a, low , high)\n",
    "    print(f\"The Sorted array is{res}\")"
   ]
  },
  {
   "cell_type": "raw",
   "id": "0256b91f-8955-4240-b435-2e140ed02dd3",
   "metadata": {},
   "source": [
    "# Intersection of two Sorted Arrays"
   ]
  },
  {
   "cell_type": "code",
   "execution_count": 2,
   "id": "fc4a6729-0769-4282-b615-7f68867ccd3d",
   "metadata": {},
   "outputs": [],
   "source": [
    "#Naive Approach"
   ]
  },
  {
   "cell_type": "code",
   "execution_count": 9,
   "id": "60e82917-6d69-4e36-b70a-a10b6e833e2f",
   "metadata": {},
   "outputs": [
    {
     "name": "stdout",
     "output_type": "stream",
     "text": [
      "10 20 60 "
     ]
    }
   ],
   "source": [
    "def intersection(a,b,m,n):\n",
    "    for i in range(m):\n",
    "        if i > 0 and a[i - 1] == a[i]:\n",
    "            continue\n",
    "\n",
    "        for j in range(n):\n",
    "            if j in range(n):\n",
    "                if a[i] == b[j]:\n",
    "                    print(a[i] , end = \" \")\n",
    "                    break\n",
    "\n",
    "\n",
    "if __name__ == '__main__':\n",
    "    a = [1,10,20,40,60]\n",
    "    b = [2,20,10,20,60]\n",
    "    \n",
    "    m = len(a) \n",
    "    n = len(b) \n",
    "    intersection(a,b,m,n)"
   ]
  },
  {
   "cell_type": "code",
   "execution_count": 20,
   "id": "413bab31-4c25-4018-b997-4f73f87f905f",
   "metadata": {},
   "outputs": [
    {
     "name": "stdout",
     "output_type": "stream",
     "text": [
      "10 20 60 "
     ]
    }
   ],
   "source": [
    "# Efficient Approach(Works only for sorted array)\n",
    "def intersection(a,b,m,n):\n",
    "    i = 0\n",
    "    j = 0\n",
    "    while i < m and j < n:\n",
    "        if i > 0 and a[i] == a[i - 1]:\n",
    "            i += 1\n",
    "            continue\n",
    "        \n",
    "        if a[i] < b[j]:\n",
    "            i+= 1\n",
    "\n",
    "        if a[i] > b[j]:\n",
    "            j += 1\n",
    "        if a[i] == b[j]:\n",
    "            print(a[i], end = \" \")\n",
    "            i += 1\n",
    "            j += 1\n",
    "            \n",
    "\n",
    "if __name__ == '__main__':\n",
    "    a = [1,10,20,40,60]\n",
    "    b = [2,10,20,20,60]\n",
    "    \n",
    "    m = len(a) \n",
    "    n = len(b) \n",
    "    intersection(a,b,m,n)\n",
    "    "
   ]
  },
  {
   "cell_type": "code",
   "execution_count": 10,
   "id": "e938c269-e69d-4239-933b-a10f715a5f63",
   "metadata": {},
   "outputs": [
    {
     "name": "stdout",
     "output_type": "stream",
     "text": [
      "Total Inversions are 6\n"
     ]
    }
   ],
   "source": [
    "### Count Inversion in an Array\n",
    "def inversion(arr):\n",
    "    count = 0\n",
    "    n = len(arr)\n",
    "    i = 0\n",
    "    for i in range(n-1):\n",
    "        for j in range(i + 1, n):\n",
    "            if arr[i] > arr[j]:\n",
    "                count += 1\n",
    "    return count\n",
    "\n",
    "if __name__ == '__main__':\n",
    "    arr = [40,30,20,10]\n",
    "    res = inversion(arr)\n",
    "    print(f\"Total Inversions are {res}\")"
   ]
  },
  {
   "cell_type": "code",
   "execution_count": 1,
   "id": "2933b09b-9520-4b02-aa5c-9a3648b728dc",
   "metadata": {},
   "outputs": [],
   "source": [
    "# Efficient sol for inverison"
   ]
  },
  {
   "cell_type": "code",
   "execution_count": 5,
   "id": "385d4744-a6c0-4175-b152-c5f934d1e0e5",
   "metadata": {},
   "outputs": [
    {
     "name": "stdout",
     "output_type": "stream",
     "text": [
      "3\n"
     ]
    }
   ],
   "source": [
    "def countInv(arr,l,r):\n",
    "    res = 0\n",
    "    if l < r:\n",
    "        m = (l+r) // 2\n",
    "        res += countInv(arr,l,m)\n",
    "        res += countInv(arr,m+1,r)\n",
    "        res += countMerge(arr,l,m,r)\n",
    "\n",
    "    return res\n",
    "\n",
    "def countMerge(arr,l,m,r):\n",
    "    left = arr[l : m + 1]\n",
    "    right = arr[m + 1 : r + 1]\n",
    "    res , i , j, k = 0,0,0,l\n",
    "    while i < len(left) and j < len(right):\n",
    "        if left[i] <= right[j]:\n",
    "            arr[k] = left[i]\n",
    "            i += 1\n",
    "\n",
    "        else:\n",
    "            arr[k] = right[j]\n",
    "            res += (len(left) - i)\n",
    "            j += 1\n",
    "        k += 1\n",
    "\n",
    "    while i < len(left):\n",
    "        arr[k] = left[i]\n",
    "        i += 1\n",
    "        k += 1\n",
    "\n",
    "    while j < len(right):\n",
    "        arr[k] = right[j]\n",
    "        j += 1\n",
    "        k += 1\n",
    "\n",
    "    return res\n",
    "        \n",
    "if __name__ == '__main__':\n",
    "    arr = [5,10,30,7,15]\n",
    "    l = 0 \n",
    "    r = len(arr) - 1\n",
    "    res = countInv(arr,l,r)\n",
    "    print(f\"{res}\")"
   ]
  },
  {
   "cell_type": "code",
   "execution_count": 10,
   "id": "d4c842d5-cdca-4883-a3ae-f661b543bdaf",
   "metadata": {},
   "outputs": [
    {
     "name": "stdin",
     "output_type": "stream",
     "text": [
      "Enter the index for partition 5\n"
     ]
    },
    {
     "name": "stdout",
     "output_type": "stream",
     "text": [
      "Praitioned array is [7, 7, 7, 7, 7, 7]\n"
     ]
    }
   ],
   "source": [
    "#partition of given Array\n",
    "\n",
    "def partArray(arr,l,r,p):\n",
    "    m = (l + r) // 2\n",
    "    arr[m] = arr[p]\n",
    "    if l < r:\n",
    "        partArray(arr,l,m,p)\n",
    "        partArray(arr,m+1,r,p)\n",
    "        partMerge(arr,l,m,r)\n",
    "    return arr\n",
    "\n",
    "def partMerge(arr,l,m,r):\n",
    "    left = arr[l:m + 1]\n",
    "    right = arr[m + 1:r + 1]\n",
    "    i , j , k = 0, 0, l\n",
    "    while i < len(left) and j < len(right):\n",
    "        if left[i] == arr[m]:\n",
    "            i += 1\n",
    "        elif right[j] == arr[m]:\n",
    "            j += 1\n",
    "        elif left[i] <= right[j]:\n",
    "            arr[k] = left[i]\n",
    "            i += 1\n",
    "\n",
    "        else:\n",
    "            arr[k] = right[j]\n",
    "            j += 1\n",
    "\n",
    "        k += 1\n",
    "\n",
    "    while i < len(left):\n",
    "        arr[k] = left[i]\n",
    "        i += 1\n",
    "        k += 1\n",
    "\n",
    "    while j < len(right):\n",
    "        arr[k] = right[j]\n",
    "        j += 1\n",
    "        k += 1\n",
    "\n",
    "    return arr\n",
    "\n",
    "\n",
    "if __name__ == '__main__':\n",
    "    arr = [3,8,6,12,10,7]\n",
    "    l = 0\n",
    "    r = len(arr) - 1\n",
    "    p = int(input(\"Enter the index for partition\"))\n",
    "    res = partArray(arr,l,r,p)\n",
    "    print(f\"Praitioned array is {res}\")    \n",
    "    ## Didnt Worked"
   ]
  },
  {
   "cell_type": "code",
   "execution_count": 3,
   "id": "a45b442c-d71c-4bc7-95b3-bbd844b9b815",
   "metadata": {},
   "outputs": [
    {
     "name": "stdin",
     "output_type": "stream",
     "text": [
      "Enter the index from where you want to part 1\n"
     ]
    },
    {
     "name": "stdout",
     "output_type": "stream",
     "text": [
      "The Array is [3, 7, 6, 8, 12, 10]\n"
     ]
    }
   ],
   "source": [
    "#Naive Approach \n",
    "def partition(arr,p):\n",
    "    n = len(arr)\n",
    "    arr[p], arr[n - 1] = arr[n - 1], arr[p]\n",
    "    temp = []\n",
    "    for x in arr:\n",
    "        if x <= arr[n -1]:\n",
    "            temp.append(x)\n",
    "\n",
    "    for x in arr:\n",
    "        if x >= arr[n - 1]:\n",
    "            temp.append(x)\n",
    "\n",
    "    for i in range(len(arr)):\n",
    "        arr[i] = temp[i]\n",
    "    return arr\n",
    "\n",
    "if __name__ == '__main__':\n",
    "    arr = [3,8,6,12,10,7]\n",
    "    p = int(input(\"Enter the index from where you want to part\"))\n",
    "    res = partition(arr,p)\n",
    "    print(f\"The Array is {res}\")"
   ]
  },
  {
   "cell_type": "code",
   "execution_count": 19,
   "id": "32255454-27f8-4ee4-b158-c5ebcab3c92a",
   "metadata": {},
   "outputs": [
    {
     "name": "stdout",
     "output_type": "stream",
     "text": [
      "4\n"
     ]
    }
   ],
   "source": [
    "#lomuto partition\n",
    "def lomutoPartition(arr,l,h):\n",
    "    pivot = arr[h]\n",
    "    i = l - 1\n",
    "    for j in range(l,h):\n",
    "        if arr[j] < pivot:\n",
    "            i += 1\n",
    "            arr[i],arr[j] = arr[j],arr[i]\n",
    "\n",
    "    arr[i+1],arr[h] = arr[h],arr[i+1]\n",
    "    return i + 1\n",
    "\n",
    "if __name__ == '__main__':\n",
    "    arr = [10,80,30,90,40,50,70]\n",
    "    l = 0\n",
    "    h = len(arr)-1\n",
    "    res = lomutoPartition(arr,l,h)\n",
    "    print(f\"{res}\")"
   ]
  },
  {
   "cell_type": "code",
   "execution_count": 20,
   "id": "70436ae5-5288-40e0-9f83-017c2618b5d0",
   "metadata": {},
   "outputs": [
    {
     "name": "stdout",
     "output_type": "stream",
     "text": [
      "2\n"
     ]
    }
   ],
   "source": [
    "#Hoare's Partition\n",
    "\n",
    "def hoarePartition(arr,l,h):\n",
    "    pivot = arr[l]\n",
    "    i = l - 1\n",
    "    j = h + 1\n",
    "    while True:\n",
    "        i += 1\n",
    "        while arr[i] < pivot:\n",
    "            i+= 1\n",
    "\n",
    "        j = j - 1\n",
    "        while arr[j] > pivot:\n",
    "            j = j - 1\n",
    "\n",
    "        if i >= j:\n",
    "            return j\n",
    "\n",
    "        arr[i],arr[j] = arr[j],arr[i]\n",
    "\n",
    "if __name__ == '__main__':\n",
    "    arr = [5,3,4,8,2,9]\n",
    "    l = 0\n",
    "    h = len(arr)-1\n",
    "    res = hoarePartition(arr,l,h)\n",
    "    print(f\"{res}\")"
   ]
  },
  {
   "cell_type": "code",
   "execution_count": 27,
   "id": "e53fb82f-1f2a-4a73-9a6c-1e95b0a0710d",
   "metadata": {},
   "outputs": [
    {
     "name": "stdout",
     "output_type": "stream",
     "text": [
      "0\n",
      "5\n",
      "3\n",
      "2\n",
      "[3, 4, 5, 7, 8, 9, 10]\n"
     ]
    }
   ],
   "source": [
    "#quickSort Using Lomuto Partition\n",
    "def qSort(arr,l,h):\n",
    "    if l < h:\n",
    "        p = partition(arr,l,h)\n",
    "        qSort(arr,l,p-1)\n",
    "        qSort(arr,p+1,h)\n",
    "        print(f\"{p}\")\n",
    "    \n",
    "    return arr\n",
    "        \n",
    "def partition(arr,l,h):\n",
    "    pivot = arr[h]\n",
    "    i = l - 1\n",
    "    for j in range(l,h):\n",
    "        if arr[j] < pivot:\n",
    "            i += 1\n",
    "            arr[i],arr[j] = arr[j],arr[i]\n",
    "\n",
    "    arr[i+1],arr[h] = arr[h],arr[i+1]\n",
    "    return i + 1\n",
    "\n",
    "if __name__ == '__main__':\n",
    "    arr = [8,4,7,9,3,10,5]\n",
    "    l = 0\n",
    "    h = len(arr) - 1\n",
    "    res = qSort(arr,l,h)\n",
    "    print(f\"{res}\")"
   ]
  },
  {
   "cell_type": "code",
   "execution_count": 3,
   "id": "744f13a7-7f23-48ca-8b86-4c8a8ecec1fa",
   "metadata": {},
   "outputs": [
    {
     "name": "stdout",
     "output_type": "stream",
     "text": [
      "[3, 4, 5, 7, 8, 9, 10]\n"
     ]
    }
   ],
   "source": [
    "#QuickSort using Hoare's partition\n",
    "def qSort(arr,l,h):\n",
    "    if l < h:\n",
    "        p = partition(arr,l,h)\n",
    "        qSort(arr,l,p)\n",
    "        qSort(arr,p+1,h)\n",
    "\n",
    "    return arr\n",
    "\n",
    "def partition(arr,l,h):\n",
    "    pivot = arr[l]\n",
    "    i = l - 1\n",
    "    j = h + 1\n",
    "    while True:\n",
    "        i += 1\n",
    "        while arr[i] < pivot:\n",
    "            i += 1\n",
    "        j = j - 1\n",
    "        while arr[j] > pivot:\n",
    "            j = j - 1\n",
    "\n",
    "        if i >= j :\n",
    "            return j\n",
    "\n",
    "        arr[i] , arr[j] = arr[j], arr[i]\n",
    "\n",
    "if __name__ == '__main__':\n",
    "    arr = [8,4,7,9,3,10,5]\n",
    "    l = 0\n",
    "    h = len(arr) - 1\n",
    "    #res = qSort(arr,l,h)\n",
    "    print(f\"{qSort(arr,l,h)}\")"
   ]
  },
  {
   "cell_type": "code",
   "execution_count": null,
   "id": "e09e2485-70a0-4465-9e08-e5703ac08424",
   "metadata": {},
   "outputs": [],
   "source": []
  }
 ],
 "metadata": {
  "kernelspec": {
   "display_name": "Python 3 (ipykernel)",
   "language": "python",
   "name": "python3"
  },
  "language_info": {
   "codemirror_mode": {
    "name": "ipython",
    "version": 3
   },
   "file_extension": ".py",
   "mimetype": "text/x-python",
   "name": "python",
   "nbconvert_exporter": "python",
   "pygments_lexer": "ipython3",
   "version": "3.12.7"
  }
 },
 "nbformat": 4,
 "nbformat_minor": 5
}
