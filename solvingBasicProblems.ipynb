{
 "cells": [
  {
   "cell_type": "markdown",
   "id": "8db32e40-36a9-446d-83dd-261f931b199f",
   "metadata": {},
   "source": [
    "Solving Basic Problems for better understanding"
   ]
  },
  {
   "cell_type": "code",
   "execution_count": 1,
   "id": "ea2f8bc2-a8d4-4b8a-84f7-34a65086a366",
   "metadata": {},
   "outputs": [
    {
     "name": "stdout",
     "output_type": "stream",
     "text": [
      "Hello A Start towards Growth\n"
     ]
    }
   ],
   "source": [
    "print(\"Hello A Start towards Growth\")"
   ]
  },
  {
   "cell_type": "code",
   "execution_count": 3,
   "id": "ab311e03-8121-4753-b93c-319023cca490",
   "metadata": {},
   "outputs": [
    {
     "name": "stdout",
     "output_type": "stream",
     "text": [
      "<class 'int'>\n",
      "<class 'float'>\n",
      "<class 'str'>\n",
      "<class 'bool'>\n",
      "10\n",
      "898.21\n",
      "Anupam\n",
      "True\n"
     ]
    }
   ],
   "source": [
    "#print different types of variables\n",
    "a =10\n",
    "s = 898.21\n",
    "t = \"Anupam\"\n",
    "b = True\n",
    "\n",
    "print(type(a))\n",
    "print(type(s))\n",
    "print(type(t))\n",
    "print(type(b))\n",
    "print(a)\n",
    "print(s)\n",
    "print(t)\n",
    "print(b)"
   ]
  },
  {
   "cell_type": "markdown",
   "id": "a5a72235-1615-4c72-82dc-023eed6c57d4",
   "metadata": {},
   "source": [
    "calculator"
   ]
  },
  {
   "cell_type": "code",
   "execution_count": 4,
   "id": "b3e4dc42-12b6-41cd-9c5d-6dd9dcbca59b",
   "metadata": {},
   "outputs": [
    {
     "name": "stdin",
     "output_type": "stream",
     "text": [
      "Enter first number 112\n",
      "Enter scecond number 23\n"
     ]
    },
    {
     "name": "stdout",
     "output_type": "stream",
     "text": [
      "112.0  ,  23.0\n",
      "Sum is  135.0\n",
      "Sub is  89.0\n",
      "Mul is  2576.0\n",
      "Div is  4.869565217391305\n",
      "Remainder is  20.0\n"
     ]
    }
   ],
   "source": [
    "#making a calculator without switch case\n",
    "\n",
    "num1 = float(input(\"Enter first number\"))\n",
    "num2 = float(input(\"Enter scecond number\"))\n",
    "\n",
    "print(num1 ,\" , \", num2)\n",
    "\n",
    "print(\"Sum is \",num1+num2)\n",
    "print(\"Sub is \",num1-num2)\n",
    "print(\"Mul is \",num1*num2)\n",
    "print(\"Div is \",num1/num2)\n",
    "print(\"Remainder is \",num1%num2)"
   ]
  },
  {
   "cell_type": "code",
   "execution_count": 5,
   "id": "bd1ac4ba-5ecc-4b9e-bbfc-4e1decbfa36a",
   "metadata": {},
   "outputs": [
    {
     "name": "stdin",
     "output_type": "stream",
     "text": [
      "Enter your number 2\n",
      "Enter the power 3\n"
     ]
    },
    {
     "name": "stdout",
     "output_type": "stream",
     "text": [
      "8\n",
      "8\n"
     ]
    }
   ],
   "source": [
    "#Print raising power number\n",
    "\n",
    "a = int(input(\"Enter your number\"))\n",
    "b = int(input(\"Enter the power\"))\n",
    "result = a ** b\n",
    "print(result)\n",
    "print(pow(a,b))"
   ]
  },
  {
   "cell_type": "code",
   "execution_count": 6,
   "id": "5d3cdfec-9584-4d97-8a95-59a27cc77dee",
   "metadata": {},
   "outputs": [
    {
     "name": "stdin",
     "output_type": "stream",
     "text": [
      "Enter number 4\n"
     ]
    },
    {
     "name": "stdout",
     "output_type": "stream",
     "text": [
      "Even \n"
     ]
    }
   ],
   "source": [
    "#Even odd \n",
    "\n",
    "n = int(input(\"Enter number\"))\n",
    "\n",
    "if n % 2 == 0:\n",
    "    print(\"Even \")\n",
    "else:\n",
    "    print(\"Odd\")\n",
    "\n",
    "if n & 1:\n",
    "    print(\"ODD\")"
   ]
  },
  {
   "cell_type": "code",
   "execution_count": 7,
   "id": "b10bb4a8-d01e-4e46-bcb9-8060578472aa",
   "metadata": {},
   "outputs": [
    {
     "name": "stdin",
     "output_type": "stream",
     "text": [
      "Enter your year  2025\n"
     ]
    },
    {
     "name": "stdout",
     "output_type": "stream",
     "text": [
      "Not a leap Year\n"
     ]
    }
   ],
   "source": [
    "#leap year\n",
    "\n",
    "yr = int(input(\"Enter your year \"))\n",
    "\n",
    "if (yr % 4 == 0 and yr % 100 != 0) or (yr % 400 == 0):\n",
    "    print(\"Leap year\")\n",
    "else:\n",
    "    print(\"Not a leap Year\")"
   ]
  },
  {
   "cell_type": "markdown",
   "id": "89cf1c3b-58c7-4184-8eac-a69cf079abe7",
   "metadata": {},
   "source": [
    "## largest of three\n",
    "\n",
    "num1 = int(input(\"Enter number 1 \"))\n",
    "num2 = int(input(\"Enter number 2 \"))\n",
    "num3 = int(input(\"Enter number 3 \"))\n",
    "\n",
    "if num1 > num2 and num1 > num3:\n",
    "    print(\"largest number is\",num1)\n",
    "\n",
    "elif num1 < num2 and num2 > num3:\n",
    "    print(\"largest number is\",num2)\n",
    "else:\n",
    "    print(\"Largest number is: \",num3)"
   ]
  },
  {
   "cell_type": "code",
   "execution_count": 9,
   "id": "a7e80b8a-392c-464b-89e3-7fa04290c280",
   "metadata": {},
   "outputs": [
    {
     "name": "stdout",
     "output_type": "stream",
     "text": [
      "1\n",
      "2\n",
      "Fizz\n",
      "4\n",
      "Buzz\n",
      "Fizz\n",
      "7\n",
      "8\n",
      "Fizz\n",
      "Buzz\n",
      "11\n",
      "Fizz\n",
      "13\n",
      "14\n",
      "fizzBuzz\n",
      "16\n",
      "17\n",
      "Fizz\n",
      "19\n",
      "Buzz\n",
      "Fizz\n",
      "22\n",
      "23\n",
      "Fizz\n",
      "Buzz\n",
      "26\n",
      "Fizz\n",
      "28\n",
      "29\n",
      "fizzBuzz\n",
      "31\n",
      "32\n",
      "Fizz\n",
      "34\n",
      "Buzz\n",
      "Fizz\n",
      "37\n",
      "38\n",
      "Fizz\n",
      "Buzz\n",
      "41\n",
      "Fizz\n",
      "43\n",
      "44\n",
      "fizzBuzz\n",
      "46\n",
      "47\n",
      "Fizz\n",
      "49\n"
     ]
    }
   ],
   "source": [
    "#fizzBuzz\n",
    "\n",
    "for i in range(1,50):\n",
    "    if  i % 3 == 0 and i % 5 == 0:\n",
    "        print(\"fizzBuzz\")\n",
    "        continue\n",
    "    elif i % 3 == 0:\n",
    "        print(\"Fizz\")\n",
    "    elif i % 5 == 0:\n",
    "        print(\"Buzz\")\n",
    "    else:\n",
    "        print(i)\n",
    "        "
   ]
  },
  {
   "cell_type": "code",
   "execution_count": 10,
   "id": "12ed5fc1-6d7a-42c7-a779-41432fa8ef7a",
   "metadata": {},
   "outputs": [
    {
     "name": "stdout",
     "output_type": "stream",
     "text": [
      "150\n",
      "30.0\n"
     ]
    }
   ],
   "source": [
    "#sum and avgeraqeof list\n",
    "\n",
    "list = [10,20,30,40,50]\n",
    "sum = 0\n",
    "for i in list:\n",
    "    sum += i\n",
    "\n",
    "avg = sum/len(list)\n",
    "print(sum)\n",
    "print(avg)"
   ]
  },
  {
   "cell_type": "code",
   "execution_count": 12,
   "id": "491062da-a5e4-4f5d-819f-73c52c844068",
   "metadata": {},
   "outputs": [
    {
     "name": "stdout",
     "output_type": "stream",
     "text": [
      "[1, 4, 9, 16, 25, 36, 49, 64, 81]\n"
     ]
    }
   ],
   "source": [
    "#list coprehension\n",
    "squares = [x ** 2 for x in range(1,10)]\n",
    "print(squares)"
   ]
  },
  {
   "cell_type": "code",
   "execution_count": 13,
   "id": "0af1d8ca-0a33-4267-8ebf-7e27664cf20e",
   "metadata": {},
   "outputs": [
    {
     "name": "stdout",
     "output_type": "stream",
     "text": [
      "81\n"
     ]
    }
   ],
   "source": [
    "#max of a list\n",
    "\n",
    "list = [1, 4, 9, 16, 25, 36, 49, 64, 81]\n",
    "MAX = max(list)\n",
    "\n",
    "print(MAX)"
   ]
  },
  {
   "cell_type": "code",
   "execution_count": 14,
   "id": "4c14e99a-34d3-4f86-a0e5-86c1de832884",
   "metadata": {},
   "outputs": [
    {
     "name": "stdout",
     "output_type": "stream",
     "text": [
      "3\n"
     ]
    }
   ],
   "source": [
    "#count occurances of a number\n",
    "list = [1, 4, 9, 3, 16, 4, 3, 4, 64, 81]\n",
    "\n",
    "cc = list.count(4)\n",
    "print(cc)\n"
   ]
  },
  {
   "cell_type": "code",
   "execution_count": 16,
   "id": "d1446a7a-492f-4c58-bb44-713108bd9ce0",
   "metadata": {},
   "outputs": [
    {
     "name": "stdout",
     "output_type": "stream",
     "text": [
      "23\n",
      "78\n",
      "After swap\n",
      "78\n",
      "23\n"
     ]
    }
   ],
   "source": [
    "#swap vaiabless\n",
    "\n",
    "\n",
    "\n",
    "a = 23\n",
    "b = 78\n",
    "print(a)\n",
    "print(b)\n",
    "\n",
    "temp = a\n",
    "a = b\n",
    "b = temp\n",
    "print(\"After swap\")\n",
    "print(a)\n",
    "print(b)"
   ]
  },
  {
   "cell_type": "code",
   "execution_count": 17,
   "id": "c3603be1-898e-49bc-8b59-128d4bd3f11b",
   "metadata": {},
   "outputs": [
    {
     "name": "stdout",
     "output_type": "stream",
     "text": [
      "1 2 3 4 5\n"
     ]
    }
   ],
   "source": [
    "#tuple unpacking\n",
    "\n",
    "tup = [1,2,3,4,5]\n",
    "a,s,d,f,g = tup\n",
    "print(a,s,d,f,g)"
   ]
  },
  {
   "cell_type": "code",
   "execution_count": 18,
   "id": "8ffce8b6-8293-4af7-96df-0340a4d90dbf",
   "metadata": {},
   "outputs": [
    {
     "name": "stdin",
     "output_type": "stream",
     "text": [
      "Enter name to get number Anupam\n"
     ]
    },
    {
     "name": "stdout",
     "output_type": "stream",
     "text": [
      "Phone_number 9424224540\n"
     ]
    }
   ],
   "source": [
    "#dictionary\n",
    "\n",
    "phonebook = {\n",
    "    \"Anupam\" : 9424224540,\n",
    "    \"Shashi\" : 8971475027\n",
    "}\n",
    "\n",
    "name = input(\"Enter name to get number\")\n",
    "\n",
    "print(\"Phone_number\",phonebook.get(name,\"not found\"))"
   ]
  },
  {
   "cell_type": "code",
   "execution_count": 23,
   "id": "87506e72-964a-4063-9199-f41cbc0f5dd8",
   "metadata": {},
   "outputs": [
    {
     "name": "stdout",
     "output_type": "stream",
     "text": [
      "{'Hello': 2, 'World': 2}\n"
     ]
    }
   ],
   "source": [
    "#count words\n",
    "\n",
    "text = \"Hello World Hello World\"\n",
    "words = text.split()\n",
    "words_counts = {}\n",
    "for word in words:\n",
    "    if word in words_counts:\n",
    "        words_counts[word] += 1\n",
    "    else:\n",
    "        words_counts[word] = 1\n",
    "\n",
    "print(words_counts)"
   ]
  },
  {
   "cell_type": "code",
   "execution_count": 24,
   "id": "a61a45ad-cde9-45b0-aebf-23328f40bb0a",
   "metadata": {},
   "outputs": [
    {
     "name": "stdout",
     "output_type": "stream",
     "text": [
      "{'a': 1, 'b': 2, 'c': 3, 'd': 4}\n"
     ]
    }
   ],
   "source": [
    "#Merge Dictionaries\n",
    "\n",
    "dict1 = {\"a\":1,\"b\":2}\n",
    "dict2 = {\"c\":3,\"d\":4}\n",
    "merge_dict = {**dict1,**dict2}\n",
    "print(merge_dict)"
   ]
  },
  {
   "cell_type": "code",
   "execution_count": 27,
   "id": "b6d9b95e-1e1c-4408-b200-2fe6b0dc3d9c",
   "metadata": {},
   "outputs": [
    {
     "name": "stdin",
     "output_type": "stream",
     "text": [
      "Enter a string Shashi\n"
     ]
    },
    {
     "name": "stdout",
     "output_type": "stream",
     "text": [
      "Not a plindrome\n"
     ]
    }
   ],
   "source": [
    "#check palindrome\n",
    "\n",
    "string = input(\"Enter a string\")\n",
    "\n",
    "if string == string[::-1]:\n",
    "    print(\"palindrome\")\n",
    "\n",
    "else:\n",
    "    print(\"Not a plindrome\")"
   ]
  },
  {
   "cell_type": "code",
   "execution_count": 29,
   "id": "b8c266d9-3a4f-47be-b08d-2d770a83e5d6",
   "metadata": {},
   "outputs": [
    {
     "name": "stdin",
     "output_type": "stream",
     "text": [
      "Enter a string asdf\n",
      "Enter a string fdsa\n"
     ]
    },
    {
     "name": "stdout",
     "output_type": "stream",
     "text": [
      "Anogram\n"
     ]
    }
   ],
   "source": [
    "#check anogram\n",
    "\n",
    "str1 = input(\"Enter a string\")\n",
    "str2 = input(\"Enter a string\")\n",
    "\n",
    "if sorted(str1) == sorted(str2):\n",
    "    print(\"Anogram\")\n",
    "\n",
    "else:\n",
    "    print(\"Not a palindrome\")\n"
   ]
  },
  {
   "cell_type": "code",
   "execution_count": 30,
   "id": "ea958f15-1127-4d38-80f4-a886321ca493",
   "metadata": {},
   "outputs": [
    {
     "name": "stdin",
     "output_type": "stream",
     "text": [
      "Enter a string qwwerrr\n"
     ]
    },
    {
     "name": "stdout",
     "output_type": "stream",
     "text": [
      "7\n"
     ]
    }
   ],
   "source": [
    "#length of a string\n",
    "\n",
    "string = input(\"Enter a string\")\n",
    "\n",
    "print(len(string))"
   ]
  },
  {
   "cell_type": "code",
   "execution_count": 34,
   "id": "1a7fd299-67e6-40a9-91f6-fd7bf598ddec",
   "metadata": {},
   "outputs": [
    {
     "name": "stdin",
     "output_type": "stream",
     "text": [
      "Enter a string motki\n"
     ]
    },
    {
     "name": "stdout",
     "output_type": "stream",
     "text": [
      "iktom MOTKI\n"
     ]
    }
   ],
   "source": [
    "#reverse of a string\n",
    "\n",
    "string = input(\"Enter a string\")\n",
    "\n",
    "print(string[::-1],string.upper())"
   ]
  },
  {
   "cell_type": "code",
   "execution_count": 38,
   "id": "25562be9-a41c-4469-ab65-8dff0352330e",
   "metadata": {},
   "outputs": [
    {
     "name": "stdin",
     "output_type": "stream",
     "text": [
      "Enter a string Anupam\n"
     ]
    },
    {
     "name": "stdout",
     "output_type": "stream",
     "text": [
      "A\n",
      "u\n",
      "a\n",
      "3\n"
     ]
    }
   ],
   "source": [
    "#conut vowels\n",
    "string = input(\"Enter a string\")\n",
    "\n",
    "vowels = \"aeiouAEIOU\"\n",
    "\n",
    "#count = sum(1 for char in string if char in vowels)\n",
    "count = 0\n",
    "for char in string:\n",
    "    if char in vowels:\n",
    "        print(char)\n",
    "        count+=1\n",
    "print(count)"
   ]
  },
  {
   "cell_type": "code",
   "execution_count": 44,
   "id": "b92b1dfd-0adb-4395-9991-e6bdd2791976",
   "metadata": {},
   "outputs": [
    {
     "name": "stdin",
     "output_type": "stream",
     "text": [
      "Enter a number 5\n"
     ]
    },
    {
     "name": "stdout",
     "output_type": "stream",
     "text": [
      "1\n",
      "2\n",
      "6\n",
      "24\n",
      "120\n",
      "\n",
      "Factorial 120\n"
     ]
    }
   ],
   "source": [
    "#factorial\n",
    "\n",
    "n = int(input(\"Enter a number\"))\n",
    "\n",
    "fact = 1\n",
    "\n",
    "for i in range(1,n+1):\n",
    "    fact = fact * i\n",
    "    print(fact)\n",
    "    \n",
    "print(\"\")\n",
    "print(\"Factorial\",fact)"
   ]
  },
  {
   "cell_type": "code",
   "execution_count": 50,
   "id": "8cddb598-30a8-41fc-9c78-5b5726a84042",
   "metadata": {},
   "outputs": [
    {
     "name": "stdin",
     "output_type": "stream",
     "text": [
      "Enter a number 45\n"
     ]
    },
    {
     "name": "stdout",
     "output_type": "stream",
     "text": [
      "1\n",
      "3\n",
      "5\n",
      "9\n",
      "15\n",
      "45\n",
      "Total Count 6\n",
      "Composite 45\n"
     ]
    }
   ],
   "source": [
    "#check prime number\n",
    "\n",
    "n = int(input(\"Enter a number\"))\n",
    "count = 0\n",
    "for i in range(1,n+1):\n",
    "    if n % i == 0:\n",
    "        count+=1\n",
    "        print(i)\n",
    "print(\"Total Count\",count)\n",
    "if count == 2:\n",
    "    print(\"Prime\",n)\n",
    "\n",
    "else:\n",
    "    print(\"Composite\",n)"
   ]
  },
  {
   "cell_type": "code",
   "execution_count": 71,
   "id": "43308978-5a52-4cb3-afbb-2b154bb9cc8a",
   "metadata": {},
   "outputs": [
    {
     "name": "stdin",
     "output_type": "stream",
     "text": [
      "Enter a number 6\n"
     ]
    },
    {
     "name": "stdout",
     "output_type": "stream",
     "text": [
      "8\n"
     ]
    }
   ],
   "source": [
    "#fibonacci\n",
    "\n",
    "def fibo(num):\n",
    "    if num == 0 :\n",
    "        return \"Invalid input\"\n",
    "    elif (num == 1) or (num == 2):\n",
    "        return 1\n",
    "    else:\n",
    "        return fibo(num-1)+fibo(num-2)\n",
    "\n",
    "n = int(input(\"Enter a number\"))\n",
    "\n",
    "fib_res = fibo(n)\n",
    "print(fib_res)"
   ]
  },
  {
   "cell_type": "code",
   "execution_count": 72,
   "id": "e89900ac-db08-46af-80ea-bd4308ce0c27",
   "metadata": {},
   "outputs": [
    {
     "name": "stdin",
     "output_type": "stream",
     "text": [
      "Enter number num1 12\n",
      "Enter number num2 14\n"
     ]
    },
    {
     "name": "stdout",
     "output_type": "stream",
     "text": [
      "2\n"
     ]
    }
   ],
   "source": [
    "#greatest common divisior\n",
    "\n",
    "def gcd(a,b):\n",
    "    while b:\n",
    "        a,b = b, a%b\n",
    "    return a\n",
    "\n",
    "num1 = int(input(\"Enter number num1\"))\n",
    "num2 = int(input(\"Enter number num2\"))\n",
    "\n",
    "res = gcd(num1,num2)\n",
    "print(res)"
   ]
  },
  {
   "cell_type": "code",
   "execution_count": 77,
   "id": "50449e39-d046-46f6-a26b-9c06dfc468d0",
   "metadata": {},
   "outputs": [
    {
     "name": "stdin",
     "output_type": "stream",
     "text": [
      "Enter number num1 6\n",
      "Enter number num2 7\n"
     ]
    },
    {
     "name": "stdout",
     "output_type": "stream",
     "text": [
      "42\n"
     ]
    }
   ],
   "source": [
    "#LCM nikalo bhaiii\n",
    "def lcm(a,b):\n",
    "    def gcd(a,b):\n",
    "        while b:\n",
    "            a,b = b, a%b\n",
    "        return a\n",
    "    lcm = (a*b)//gcd(a,b)\n",
    "    return lcm\n",
    "\n",
    "num1 = int(input(\"Enter number num1\"))\n",
    "num2 = int(input(\"Enter number num2\"))\n",
    "\n",
    "res = lcm(num1,num2)\n",
    "print(res)"
   ]
  },
  {
   "cell_type": "code",
   "execution_count": 78,
   "id": "b3f16309-2187-48d4-be66-e6650fde310b",
   "metadata": {},
   "outputs": [
    {
     "name": "stdin",
     "output_type": "stream",
     "text": [
      "Enter radius  12\n"
     ]
    },
    {
     "name": "stdout",
     "output_type": "stream",
     "text": [
      "452.3893421169302\n"
     ]
    }
   ],
   "source": [
    "#math ka use karo bhaii\n",
    "\n",
    "import math\n",
    "\n",
    "radius = float(input(\"Enter radius \"))\n",
    "area = math.pi * radius ** 2\n",
    "print(area)"
   ]
  },
  {
   "cell_type": "code",
   "execution_count": 82,
   "id": "727b418b-e2be-48de-a7b4-a9242d9c07df",
   "metadata": {},
   "outputs": [
    {
     "name": "stdout",
     "output_type": "stream",
     "text": [
      "17\n"
     ]
    }
   ],
   "source": [
    "#use random \n",
    "import numpy as np\n",
    "import random\n",
    "\n",
    "x = random.randint(1,100)\n",
    "print(x)"
   ]
  },
  {
   "cell_type": "code",
   "execution_count": 83,
   "id": "1e6f168d-7c68-44d3-9eaf-ed3289d7fcc7",
   "metadata": {},
   "outputs": [
    {
     "name": "stdout",
     "output_type": "stream",
     "text": [
      "2025-01-17 01:34:52.749315\n"
     ]
    }
   ],
   "source": [
    "#dateTime\n",
    "\n",
    "import datetime\n",
    "\n",
    "current_datetime = datetime.datetime.now()\n",
    "print(current_datetime)"
   ]
  },
  {
   "cell_type": "code",
   "execution_count": null,
   "id": "799d2b91-9333-4b0d-9478-78efe3ea6e11",
   "metadata": {},
   "outputs": [],
   "source": []
  }
 ],
 "metadata": {
  "kernelspec": {
   "display_name": "Python 3 (ipykernel)",
   "language": "python",
   "name": "python3"
  },
  "language_info": {
   "codemirror_mode": {
    "name": "ipython",
    "version": 3
   },
   "file_extension": ".py",
   "mimetype": "text/x-python",
   "name": "python",
   "nbconvert_exporter": "python",
   "pygments_lexer": "ipython3",
   "version": "3.12.7"
  }
 },
 "nbformat": 4,
 "nbformat_minor": 5
}
