{
 "cells": [
  {
   "cell_type": "code",
   "execution_count": null,
   "id": "de06e5f4-6fa7-4763-ae87-ec47b47ef32d",
   "metadata": {},
   "outputs": [],
   "source": [
    "#Searching \n",
    "\n"
   ]
  },
  {
   "cell_type": "code",
   "execution_count": null,
   "id": "862d8ec1-65c6-4beb-895c-3a0bbaa6e924",
   "metadata": {},
   "outputs": [],
   "source": [
    "#Binary Search\n",
    "def binSer(l,key):\n",
    "    if not l:\n",
    "        return None\n",
    "\n",
    "    for i in range(0,len(l-1)):\n",
    "        if l[i] == key:\n",
    "            return i\n",
    "\n",
    "        else:\n",
    "            return -1\n",
    "\n",
    "if __name__ == '__main__':\n",
    "    l = [10,20,30,40,50]\n",
    "    key = int(input(\"Enter Key \"))\n",
    "    print(binSer(l,key))"
   ]
  },
  {
   "cell_type": "code",
   "execution_count": null,
   "id": "0928a81c-c851-4888-9e72-d5ff2c4d1fe3",
   "metadata": {},
   "outputs": [],
   "source": [
    "#binary Search\n",
    "def binSer(l,low,high,key):\n",
    "    mid = (low + high) // 2\n",
    "    while low <= high:\n",
    "        if l[mid] == key:\n",
    "            return mid\n",
    "        elif l[mid] > key:\n",
    "            high = mid - 1\n",
    "\n",
    "        elif l[mid] < key:\n",
    "            low = mid + 1\n",
    "        \n",
    "\n",
    "        mid = (low + high)//2\n",
    "    return -1            \n",
    "if __name__ == '__main__':\n",
    "    l = [10,20,30,40,50,60,70]\n",
    "    low = 0\n",
    "    high = len(l) - 1\n",
    "    key = int(input(\"Enter Key\"))\n",
    "    print(binSer(l,low,high,key))\n",
    "    "
   ]
  },
  {
   "cell_type": "code",
   "execution_count": null,
   "id": "4677d457-7283-4944-aadf-72eb4c285176",
   "metadata": {},
   "outputs": [],
   "source": [
    "#recursive way for binary search\n",
    "\n",
    "def bSearch(l,key,low,high):\n",
    "    if low > high:\n",
    "        return -1\n",
    "\n",
    "    mid = (low + high) // 2\n",
    "    if l[mid] == key:\n",
    "        return mid\n",
    "\n",
    "    elif l[mid] > key:\n",
    "        return bSearch(l,key,low,mid-1)\n",
    "    else:\n",
    "        return bSearch(l,key,low+1,high)\n",
    "\n",
    "if __name__ == '__main__':\n",
    "    l = [10,20,30,40,50,60,70]\n",
    "    low = 0\n",
    "    high = len(l) - 1\n",
    "    key = int(input(\"Enter Key\"))\n",
    "    print(bSearch(l,key,low,high))"
   ]
  },
  {
   "cell_type": "code",
   "execution_count": null,
   "id": "685a9469-222a-4c39-a0c1-800c39918f27",
   "metadata": {},
   "outputs": [],
   "source": [
    "#INdex of first occurance\n",
    "def firstOcc(l,n,x):\n",
    "    for i in range(0,n):\n",
    "        if l[i] == x:\n",
    "            return i\n",
    "\n",
    "    return -1\n",
    "\n",
    "if __name__ == '__main__':\n",
    "    l = [10,20,30,40,40,50]\n",
    "    n = len(l) - 1\n",
    "    x = int(input(\"ENter number\"))\n",
    "    print(firstOcc(l,n,x))"
   ]
  },
  {
   "cell_type": "code",
   "execution_count": null,
   "id": "7d96720b-1153-4e32-b293-e5b309823144",
   "metadata": {},
   "outputs": [],
   "source": [
    "def firstOcc(l,low,high,key):\n",
    "    if low > high:\n",
    "        return -1\n",
    "\n",
    "    mid = (low + high) // 2\n",
    "    if l[mid] == key:\n",
    "        return mid\n",
    "\n",
    "    elif l[mid] > key:\n",
    "        return bSearch(l,key,low,mid-1)\n",
    "    elif key > l[mid]:\n",
    "        return bSearch(l,key,low+1,high)\n",
    "    else:\n",
    "        if mid == 0 or l[mid-1] != l[mid]:\n",
    "            return mid\n",
    "\n",
    "        else:\n",
    "            firstOcc(l,low,mid-1,key)\n",
    "\n",
    "\n",
    "if __name__ == '__main__':\n",
    "    l = [10,20,30,40,40,50]\n",
    "    low = 0\n",
    "    high = len(l) - 1\n",
    "    key = int(input(\"Enter number\"))\n",
    "    print(firstOcc(l,low,high,key))"
   ]
  },
  {
   "cell_type": "code",
   "execution_count": null,
   "id": "bd8366e2-4daf-48ca-a33f-b97f300409cf",
   "metadata": {},
   "outputs": [],
   "source": [
    "#Index of lastOccurance\n",
    "\n",
    "def lastOcc(l,n,x):\n",
    "    \n",
    "    #print(\"DS\")\n",
    "    for i in reversed(range(len(l))):\n",
    "        #print(\"Hello\")\n",
    "        if l[i] == x:\n",
    "            return i\n",
    "    return -1\n",
    "\n",
    "if __name__ == '__main__':\n",
    "    l = [10,20,30,40,50,40,70]\n",
    "    n = len(l) - 1\n",
    "    x = int(input(\"Enter x\"))\n",
    "    print(lastOcc(l,n,x))"
   ]
  },
  {
   "cell_type": "code",
   "execution_count": null,
   "id": "e8b61b3e-3643-4370-a112-e1f30d159145",
   "metadata": {},
   "outputs": [],
   "source": [
    "#Efficient Way\n",
    "\n",
    "def lastOcc(l,x):\n",
    "    low = 0\n",
    "    high = len(l) - 1\n",
    "    \n",
    "    while low <= high:\n",
    "        mid = (low + high) // 2\n",
    "        if l[mid] > x:\n",
    "            high = mid - 1\n",
    "\n",
    "        elif l[mid] < x:\n",
    "            low = mid + 1\n",
    "        else:\n",
    "            if mid == (len(l) - 1) or l[mid] == l[mid + 1]:\n",
    "                return mid\n",
    "\n",
    "            else:\n",
    "                low = mid + 1\n",
    "\n",
    "    return -1\n",
    "\n",
    "\n",
    "if __name__ == '__main__':\n",
    "    l = [10,20,30,40,50,50,50,60]\n",
    "    x = int(input(\"Enter n\"))\n",
    "    print(lastOcc(l,x))"
   ]
  },
  {
   "cell_type": "code",
   "execution_count": 1,
   "id": "946f1740-1daf-4865-8481-7ddd9ef1a560",
   "metadata": {},
   "outputs": [
    {
     "name": "stdin",
     "output_type": "stream",
     "text": [
      "Enter n 50\n"
     ]
    },
    {
     "name": "stdout",
     "output_type": "stream",
     "text": [
      "3\n"
     ]
    }
   ],
   "source": [
    "#count occurences in sorted list\n",
    "\n",
    "def countOcc(l,x):\n",
    "    count = 0\n",
    "    for i in range(0,len(l) - 1):\n",
    "        if l[i] == x:\n",
    "            count+=1\n",
    "\n",
    "    return count\n",
    "\n",
    "if __name__ == '__main__':\n",
    "    l = [10,20,30,40,50,50,50,60]\n",
    "    x = int(input(\"Enter n\"))\n",
    "    print(countOcc(l,x))"
   ]
  },
  {
   "cell_type": "code",
   "execution_count": 3,
   "id": "3e53e4a7-10cb-4982-a36c-ad58463b305d",
   "metadata": {},
   "outputs": [
    {
     "name": "stdin",
     "output_type": "stream",
     "text": [
      "Enter n 9\n"
     ]
    },
    {
     "name": "stdout",
     "output_type": "stream",
     "text": [
      "3\n"
     ]
    }
   ],
   "source": [
    "#Square Root\n",
    "\n",
    "def sqroot(x):\n",
    "    i = 1\n",
    "    while i * i <= x:\n",
    "        i += 1\n",
    "\n",
    "    return i - 1\n",
    "\n",
    "if __name__ == '__main__':\n",
    "    x = int(input(\"Enter n\"))\n",
    "    print(sqroot(x))"
   ]
  },
  {
   "cell_type": "code",
   "execution_count": 3,
   "id": "f71590f7-4eec-4799-b21b-7a6d40f37ca0",
   "metadata": {},
   "outputs": [
    {
     "name": "stdin",
     "output_type": "stream",
     "text": [
      "Enter the Number 25\n"
     ]
    },
    {
     "name": "stdout",
     "output_type": "stream",
     "text": [
      "5\n"
     ]
    }
   ],
   "source": [
    "#squareRoot of Number\n",
    "\n",
    "def squareRoot(n):\n",
    "    low = 1\n",
    "    high = n\n",
    "    ans = -1\n",
    "    while low <= high:\n",
    "        mid = (low + high) // 2\n",
    "        mSq = mid * mid\n",
    "        if mSq == n:\n",
    "            return mid\n",
    "\n",
    "        elif mSq > n:\n",
    "            high = mid -1\n",
    "\n",
    "        else: \n",
    "            low = mid + 1\n",
    "            ans = mid\n",
    "\n",
    "    return ans\n",
    "\n",
    "\n",
    "if __name__ == '__main__':\n",
    "    n = int(input(\"Enter the Number\"))\n",
    "    print(squareRoot(n))"
   ]
  },
  {
   "cell_type": "code",
   "execution_count": null,
   "id": "9f913d4c-3d5c-4b6c-a8ed-24253122ca77",
   "metadata": {},
   "outputs": [],
   "source": []
  },
  {
   "cell_type": "code",
   "execution_count": null,
   "id": "314032da-8219-4188-b23b-9d4cf386a784",
   "metadata": {},
   "outputs": [],
   "source": []
  },
  {
   "cell_type": "code",
   "execution_count": null,
   "id": "19e4112f-ae64-4ec1-86f3-539ac4abffc7",
   "metadata": {},
   "outputs": [],
   "source": []
  },
  {
   "cell_type": "code",
   "execution_count": null,
   "id": "3f8323bb-f354-4d81-b506-87739f2e2bf6",
   "metadata": {},
   "outputs": [],
   "source": []
  }
 ],
 "metadata": {
  "kernelspec": {
   "display_name": "Python 3 (ipykernel)",
   "language": "python",
   "name": "python3"
  },
  "language_info": {
   "codemirror_mode": {
    "name": "ipython",
    "version": 3
   },
   "file_extension": ".py",
   "mimetype": "text/x-python",
   "name": "python",
   "nbconvert_exporter": "python",
   "pygments_lexer": "ipython3",
   "version": "3.12.7"
  }
 },
 "nbformat": 4,
 "nbformat_minor": 5
}
