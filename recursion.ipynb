{
 "cells": [
  {
   "cell_type": "code",
   "execution_count": 15,
   "id": "248298c3-3da7-4948-9e78-645bcfc6807b",
   "metadata": {},
   "outputs": [],
   "source": [
    "#RECURSION\n",
    "\n",
    "def fun(n):\n",
    "    if n <= 0:\n",
    "        return\n",
    "    print(\"Anupam\")\n",
    "    fun(n-1)\n",
    "    \n",
    "n = -1\n",
    "fun(n)"
   ]
  },
  {
   "cell_type": "code",
   "execution_count": 2,
   "id": "1ab89ee7-6937-4416-b2a6-8fec76a1a0d5",
   "metadata": {},
   "outputs": [
    {
     "name": "stdin",
     "output_type": "stream",
     "text": [
      "Enter N 4\n"
     ]
    },
    {
     "name": "stdout",
     "output_type": "stream",
     "text": [
      "4 3 2 1 \n",
      "1 2 3 4 "
     ]
    }
   ],
   "source": [
    "#prac1\n",
    "\n",
    "def fun(n):\n",
    "    if n == 0:\n",
    "        print()\n",
    "        return\n",
    "\n",
    "    print(n, end = \" \")\n",
    "    fun(n-1)\n",
    "    \n",
    "    print(n, end = \" \")\n",
    "\n",
    "n = int(input(\"Enter N\"))\n",
    "fun(n)"
   ]
  },
  {
   "cell_type": "code",
   "execution_count": 18,
   "id": "23ed1c46-56f9-4606-8b80-bd0c212898ff",
   "metadata": {},
   "outputs": [
    {
     "name": "stdin",
     "output_type": "stream",
     "text": [
      "Enter N 3\n"
     ]
    },
    {
     "name": "stdout",
     "output_type": "stream",
     "text": [
      "1\n",
      "2\n",
      "1\n",
      "3\n",
      "1\n",
      "2\n",
      "1\n"
     ]
    }
   ],
   "source": [
    "#problem 2\n",
    "def fun(n):\n",
    "    if n == 0:\n",
    "        \n",
    "        return\n",
    "    fun(n-1)\n",
    "    print(n)\n",
    "    fun(n-1)\n",
    "    \n",
    "   \n",
    "\n",
    "n = int(input(\"Enter N\"))\n",
    "fun(n)"
   ]
  },
  {
   "cell_type": "code",
   "execution_count": 16,
   "id": "453de6ab-8a10-4e35-855f-2ca95a76b6c0",
   "metadata": {},
   "outputs": [
    {
     "name": "stdin",
     "output_type": "stream",
     "text": [
      "Enter n 4\n"
     ]
    },
    {
     "data": {
      "text/plain": [
       "2"
      ]
     },
     "execution_count": 16,
     "metadata": {},
     "output_type": "execute_result"
    }
   ],
   "source": [
    "#prob 3\n",
    "\n",
    "def fun(n):\n",
    "    if n <= 1:\n",
    "        return 0\n",
    "\n",
    "    else:\n",
    "        return 1+fun(n//2)\n",
    "\n",
    "n = int(input(\"Enter n\"))\n",
    "fun(n)"
   ]
  },
  {
   "cell_type": "code",
   "execution_count": 1,
   "id": "0d7106f9-a0ae-46af-9c56-3907f4f42ec8",
   "metadata": {},
   "outputs": [
    {
     "name": "stdin",
     "output_type": "stream",
     "text": [
      "Enter n 5\n"
     ]
    },
    {
     "name": "stdout",
     "output_type": "stream",
     "text": [
      "1 0 1 "
     ]
    }
   ],
   "source": [
    "#prob 4\n",
    "def fun(n):\n",
    "    if n == 0:\n",
    "        return\n",
    "    fun(n//2)\n",
    "    print(n % 2, end = \" \")\n",
    "\n",
    "n = int(input(\"Enter n\"))\n",
    "fun(n)\n",
    "    "
   ]
  },
  {
   "cell_type": "code",
   "execution_count": 4,
   "id": "414a3707-a499-4a5a-9aec-927e49ff4b4b",
   "metadata": {},
   "outputs": [
    {
     "name": "stdin",
     "output_type": "stream",
     "text": [
      "Enter n 4\n"
     ]
    },
    {
     "name": "stdout",
     "output_type": "stream",
     "text": [
      "1 2 3 4 "
     ]
    }
   ],
   "source": [
    "#use recursion to print 1 to n\n",
    "def fun(n):\n",
    "    if n == 0:\n",
    "        return\n",
    "\n",
    "    fun(n-1)\n",
    "    print(n,end = \" \" )\n",
    "\n",
    "if __name__ == '__main__':\n",
    "    n = int(input(\"Enter n\"))\n",
    "    fun(n)"
   ]
  },
  {
   "cell_type": "code",
   "execution_count": 8,
   "id": "6eb708ed-f837-4531-af14-8d36d5874197",
   "metadata": {},
   "outputs": [
    {
     "name": "stdin",
     "output_type": "stream",
     "text": [
      "Enter n -1\n"
     ]
    }
   ],
   "source": [
    "#use recursion to print n to 1\n",
    "def fun(n):\n",
    "    if n <= 0:\n",
    "        return\n",
    "    print(n, end = \" \")\n",
    "    fun(n-1)\n",
    "\n",
    "if __name__ == '__main__':\n",
    "    n = int(input(\"Enter n\"))\n",
    "    fun(n)"
   ]
  },
  {
   "cell_type": "code",
   "execution_count": 17,
   "id": "04927f25-3987-40d5-90d1-e5bd6dae8a9f",
   "metadata": {},
   "outputs": [
    {
     "name": "stdin",
     "output_type": "stream",
     "text": [
      "Enter n 1\n"
     ]
    },
    {
     "name": "stdout",
     "output_type": "stream",
     "text": [
      "1\n"
     ]
    }
   ],
   "source": [
    "#FACTORIAL\n",
    "\n",
    "def fact(n):\n",
    "    if n == 0 :\n",
    "        return 1\n",
    "\n",
    "    return n*fact(n-1)\n",
    "\n",
    "if __name__ == '__main__':\n",
    "    n = int(input(\"Enter n\"))\n",
    "    print(fact(n))"
   ]
  },
  {
   "cell_type": "code",
   "execution_count": 25,
   "id": "27fdf09a-27bb-4b14-8c2a-954ad34e656e",
   "metadata": {},
   "outputs": [
    {
     "name": "stdin",
     "output_type": "stream",
     "text": [
      "Enter n 4\n"
     ]
    },
    {
     "name": "stdout",
     "output_type": "stream",
     "text": [
      "3\n"
     ]
    }
   ],
   "source": [
    "#fibonacci Series\n",
    "def fibo(n):\n",
    "    if n == 0:\n",
    "        return 0\n",
    "    if n == 1:\n",
    "        return 1\n",
    "    \n",
    "    return (fibo(n-1) + fibo(n-2))\n",
    "\n",
    "if __name__ == '__main__':\n",
    "    n = int(input(\"Enter n\"))\n",
    "    print(fibo(n))"
   ]
  },
  {
   "cell_type": "code",
   "execution_count": 34,
   "id": "04e359c1-e786-4345-9963-a839decbcb49",
   "metadata": {},
   "outputs": [
    {
     "name": "stdin",
     "output_type": "stream",
     "text": [
      "Enter digits 2342\n"
     ]
    },
    {
     "name": "stdout",
     "output_type": "stream",
     "text": [
      "11\n"
     ]
    }
   ],
   "source": [
    "#Sum of digits\n",
    "def sumDigits(n):\n",
    "    if n < 10:\n",
    "        return n\n",
    "   \n",
    "   \n",
    "    return sumDigits(n // 10) + (n % 10)\n",
    "\n",
    "if  __name__ == '__main__':\n",
    "    n = int(input(\"Enter digits\"))\n",
    "    print(sumDigits(n))"
   ]
  },
  {
   "cell_type": "code",
   "execution_count": 38,
   "id": "e537ad6c-3604-4509-a7ef-eec0486220de",
   "metadata": {},
   "outputs": [
    {
     "name": "stdin",
     "output_type": "stream",
     "text": [
      "Enter a string asa\n"
     ]
    },
    {
     "name": "stdout",
     "output_type": "stream",
     "text": [
      "True\n"
     ]
    }
   ],
   "source": [
    "#palindrome self check\n",
    "\n",
    "def pal(n):\n",
    "    a = n[::-1]\n",
    "    if a == n:\n",
    "        return True\n",
    "\n",
    "    else:\n",
    "        return False\n",
    "\n",
    "\n",
    "if __name__ == '__main__':\n",
    "    n = input(\"Enter a string\")\n",
    "    print(pal(n))"
   ]
  },
  {
   "cell_type": "code",
   "execution_count": 5,
   "id": "900457e8-5ba2-47b5-a0a7-9861c6f45b14",
   "metadata": {},
   "outputs": [
    {
     "name": "stdin",
     "output_type": "stream",
     "text": [
      "Enter a string asa\n"
     ]
    },
    {
     "name": "stdout",
     "output_type": "stream",
     "text": [
      "True\n"
     ]
    }
   ],
   "source": [
    "#recursion Palindrome\n",
    "def isPalindrome(str,start,end):\n",
    "    if start >= end:\n",
    "        return True\n",
    "\n",
    "    return (str[start] == str[end] and isPalindrome(str,start + 1, end - 1))\n",
    "\n",
    "if __name__ == '__main__':\n",
    "    str = input(\"Enter a string\")\n",
    "    start = 0\n",
    "    end = len(str) - 1\n",
    "    print(isPalindrome(str,start,end))"
   ]
  },
  {
   "cell_type": "code",
   "execution_count": null,
   "id": "86bb46ef-a814-4d6e-9af1-e5b2bc851580",
   "metadata": {},
   "outputs": [],
   "source": []
  }
 ],
 "metadata": {
  "kernelspec": {
   "display_name": "Python 3 (ipykernel)",
   "language": "python",
   "name": "python3"
  },
  "language_info": {
   "codemirror_mode": {
    "name": "ipython",
    "version": 3
   },
   "file_extension": ".py",
   "mimetype": "text/x-python",
   "name": "python",
   "nbconvert_exporter": "python",
   "pygments_lexer": "ipython3",
   "version": "3.12.7"
  }
 },
 "nbformat": 4,
 "nbformat_minor": 5
}
