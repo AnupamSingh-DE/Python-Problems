{
 "cells": [
  {
   "cell_type": "code",
   "execution_count": null,
   "id": "149269a9-4ecd-40e2-82af-948f03988607",
   "metadata": {},
   "outputs": [],
   "source": [
    "#sum of natural numbers"
   ]
  },
  {
   "cell_type": "code",
   "execution_count": 1,
   "id": "b5952484-25bc-4166-a427-89515e36fcc1",
   "metadata": {},
   "outputs": [
    {
     "name": "stdin",
     "output_type": "stream",
     "text": [
      "Enter n  3\n"
     ]
    },
    {
     "name": "stdout",
     "output_type": "stream",
     "text": [
      "Sum of natural number is :  6.0\n"
     ]
    }
   ],
   "source": [
    "def sum(n):\n",
    "    if n == 0 :\n",
    "        return 0\n",
    "    else :\n",
    "        return (n*(n+1))/2\n",
    "    \n",
    "n = int(input(\"Enter n \"))  \n",
    "\n",
    "sum = sum(n)   \n",
    "print(\"Sum of natural number is : \",sum)"
   ]
  },
  {
   "cell_type": "code",
   "execution_count": 2,
   "id": "3fb29784-733b-465a-a6a2-33f38ee86019",
   "metadata": {},
   "outputs": [
    {
     "name": "stdin",
     "output_type": "stream",
     "text": [
      "Enter a number 123345\n"
     ]
    },
    {
     "name": "stdout",
     "output_type": "stream",
     "text": [
      "6\n"
     ]
    }
   ],
   "source": [
    "#count digits\n",
    "x = int(input(\"Enter a number\"))\n",
    "count = 0\n",
    "while x >0:\n",
    "    x =  x // 10 \n",
    "    count+=1    \n",
    "    \n",
    "print(count)\n"
   ]
  },
  {
   "cell_type": "code",
   "execution_count": 10,
   "id": "b2576ccf-c5c8-4f2f-a9f3-de9bd08be390",
   "metadata": {},
   "outputs": [
    {
     "name": "stdin",
     "output_type": "stream",
     "text": [
      "Enter your Number to check weather it is palindrome or not 1234323\n"
     ]
    },
    {
     "name": "stdout",
     "output_type": "stream",
     "text": [
      "False\n"
     ]
    }
   ],
   "source": [
    "# Palindrome\n",
    "\n",
    "def isPal(n):\n",
    "    rev = 0\n",
    "    temp = n\n",
    "    while temp != 0:\n",
    "        ld = temp % 10\n",
    "        rev = rev * 10 + ld\n",
    "        temp = temp //10\n",
    "    return rev == n\n",
    "\n",
    "if __name__ == '__main__':\n",
    "    \n",
    "    number = int(input(\"Enter your Number to check weather it is palindrome or not\"))\n",
    "    print(isPal(number))\n",
    "\n"
   ]
  },
  {
   "cell_type": "code",
   "execution_count": 16,
   "id": "4fcf4e5b-5e0e-4e5b-944d-aabe63050a40",
   "metadata": {},
   "outputs": [
    {
     "name": "stdin",
     "output_type": "stream",
     "text": [
      "Enter no to calc Fact 4\n"
     ]
    },
    {
     "name": "stdout",
     "output_type": "stream",
     "text": [
      "24\n"
     ]
    }
   ],
   "source": [
    "#Factorial\n",
    "\n",
    "def Fact(n):\n",
    "    res = 1\n",
    "    if n == 0:\n",
    "        return 1\n",
    "\n",
    "    else:\n",
    "        for i in range(1,n+1):\n",
    "            res = res * i\n",
    "       \n",
    "    return res\n",
    "\n",
    "if __name__ == '__main__':\n",
    "    n = int(input(\"Enter no to calc Fact\"))\n",
    "    print(Fact(n))\n",
    "\n",
    "#Time Complexity is theta of n\n",
    "#Aux Space is O(1)\n",
    "            "
   ]
  },
  {
   "cell_type": "code",
   "execution_count": 20,
   "id": "850429d4-4e23-4630-a02a-5e0592e148b4",
   "metadata": {},
   "outputs": [
    {
     "name": "stdin",
     "output_type": "stream",
     "text": [
      "Enter no to calc Fact 4\n"
     ]
    },
    {
     "name": "stdout",
     "output_type": "stream",
     "text": [
      "24\n"
     ]
    }
   ],
   "source": [
    "#factorial in recrsive Way\n",
    "\n",
    "def Fact(n):\n",
    "    if n == 0:\n",
    "        return 1\n",
    "\n",
    "    \n",
    "    return n * Fact(n-1)\n",
    "\n",
    "if __name__ == '__main__':\n",
    "    n = int(input(\"Enter no to calc Fact\"))\n",
    "    print(Fact(n))\n",
    "    "
   ]
  },
  {
   "cell_type": "code",
   "execution_count": 21,
   "id": "8059a4e0-a1c2-4e50-b79d-ae5a4d7cb846",
   "metadata": {},
   "outputs": [
    {
     "name": "stdin",
     "output_type": "stream",
     "text": [
      "enter a 4\n",
      "enter b 8\n"
     ]
    },
    {
     "name": "stdout",
     "output_type": "stream",
     "text": [
      "GCD is  4\n"
     ]
    }
   ],
   "source": [
    "#GCD (Eucledien Approach)\n",
    "def gcd(a,b):\n",
    "    while a != b:\n",
    "        if a > b:\n",
    "            a = a-b\n",
    "\n",
    "        else:\n",
    "            b = b-a\n",
    "\n",
    "    return b\n",
    "\n",
    "if __name__=='__main__':\n",
    "    a = int(input(\"enter a\"))\n",
    "    b = int(input(\"enter b\"))\n",
    "    print(\"GCD is \", gcd(a,b))\n"
   ]
  },
  {
   "cell_type": "code",
   "execution_count": 22,
   "id": "8f4a92f5-a3fe-4ff6-a48b-96367af3713e",
   "metadata": {},
   "outputs": [
    {
     "name": "stdin",
     "output_type": "stream",
     "text": [
      "enter a 12\n",
      "enter b 15\n"
     ]
    },
    {
     "name": "stdout",
     "output_type": "stream",
     "text": [
      "GCD is  3\n"
     ]
    }
   ],
   "source": [
    "#GDC Another Way\n",
    "\n",
    "def gcd(a,b):\n",
    "    if b == 0:\n",
    "        return a\n",
    "\n",
    "    return gcd(b,a%b)\n",
    "\n",
    "if __name__=='__main__':\n",
    "    a = int(input(\"enter a\"))\n",
    "    b = int(input(\"enter b\"))\n",
    "    print(\"GCD is \", gcd(a,b))\n",
    "    "
   ]
  },
  {
   "cell_type": "code",
   "execution_count": 23,
   "id": "4e856c62-bbb2-474f-b1ce-84333962f5b2",
   "metadata": {},
   "outputs": [
    {
     "name": "stdin",
     "output_type": "stream",
     "text": [
      "enter a 12\n",
      "enter b 15\n"
     ]
    },
    {
     "name": "stdout",
     "output_type": "stream",
     "text": [
      "LCM is  60\n"
     ]
    }
   ],
   "source": [
    "#LCM Naive Approach\n",
    "\n",
    "def lcm(a,b):\n",
    "    res = max(a,b)\n",
    "    while True:\n",
    "        if res % a == 0 and res % b == 0:\n",
    "            return res\n",
    "\n",
    "        res += 1\n",
    "\n",
    "    return res\n",
    "\n",
    "if __name__== '__main__':\n",
    "    a = int(input(\"enter a\"))\n",
    "    b = int(input(\"enter b\"))\n",
    "    print(\"LCM is \", lcm(a,b))"
   ]
  },
  {
   "cell_type": "code",
   "execution_count": 24,
   "id": "6f435f64-61d9-4f33-9918-b3952f6074c1",
   "metadata": {},
   "outputs": [
    {
     "name": "stdin",
     "output_type": "stream",
     "text": [
      "enter a 12\n",
      "enter b 15\n"
     ]
    },
    {
     "name": "stdout",
     "output_type": "stream",
     "text": [
      "LCM is  60\n"
     ]
    }
   ],
   "source": [
    "#LCM Efficient Way \n",
    "def gcd(a,b):\n",
    "    if b == 0:\n",
    "        return a\n",
    "\n",
    "    return gcd(b,a%b)\n",
    "\n",
    "def lcm(a,b):\n",
    "    return a*b // gcd(a,b)\n",
    "\n",
    "\n",
    "if __name__== '__main__':\n",
    "    a = int(input(\"enter a\"))\n",
    "    b = int(input(\"enter b\"))\n",
    "    print(\"LCM is \", lcm(a,b))\n"
   ]
  },
  {
   "cell_type": "code",
   "execution_count": 35,
   "id": "1a09749d-e39c-4fd4-b7d4-a46dbddbdf57",
   "metadata": {},
   "outputs": [
    {
     "name": "stdin",
     "output_type": "stream",
     "text": [
      "Enter n to check prime or not 5\n"
     ]
    },
    {
     "name": "stdout",
     "output_type": "stream",
     "text": [
      "1\n",
      "5\n",
      "Prime\n"
     ]
    }
   ],
   "source": [
    "#Check Prime Number\n",
    "def prime(n):\n",
    "    count = 0\n",
    "    if n == 0 or n == 1:\n",
    "        return \"Invalid Input\"\n",
    "    for i in range(1,n+1):\n",
    "        if n % i == 0 :\n",
    "            print(i)\n",
    "            count += 1\n",
    "    if count == 2:\n",
    "        return \"Prime\"\n",
    "    else:\n",
    "        return \"Composite\"\n",
    "\n",
    "if __name__=='__main__':\n",
    "    \n",
    "    n = int(input(\"Enter n to check prime or not\"))\n",
    "    print(prime(n))\n",
    "                    "
   ]
  },
  {
   "cell_type": "code",
   "execution_count": null,
   "id": "a84d803e-263f-4764-9c12-097ff04cb200",
   "metadata": {},
   "outputs": [],
   "source": [
    "#prime Sir Approach\n",
    "\n",
    "def isPrime(n):\n",
    "    if n == 1:\n",
    "        return False\n",
    "\n",
    "    for i in range(2,n):\n",
    "        if n%i == 0:\n",
    "            return False\n",
    "    return True        \n",
    "\n",
    "if __name__ == '__main__':\n",
    "    n = int(input(\"Enter n to check prime or not\"))\n",
    "    print(\"Prime\")if isPrime(n) else print(\"Not Prime\")"
   ]
  },
  {
   "cell_type": "code",
   "execution_count": null,
   "id": "20c98b0c-efcf-44ec-a19f-f66e660622ec",
   "metadata": {},
   "outputs": [],
   "source": [
    "#Prime Sir WAY E\n",
    "def isPrime(n):\n",
    "    if n == 1:\n",
    "        return False\n",
    "\n",
    "    i = 2\n",
    "    while ( i * i <= n):\n",
    "        if n % i == 0:\n",
    "            return False\n",
    "            \n",
    "        i += 1\n",
    "\n",
    "    return True\n",
    "\n",
    "if __name__ == '__main__':\n",
    "    n = int(input(\"Enter n to check prime or not\"))\n",
    "    print(\"Prime\")if isPrime(n) else print(\"Not Prime\")"
   ]
  },
  {
   "cell_type": "code",
   "execution_count": null,
   "id": "224794a1-820b-4973-b60c-7dd0fe3a64cc",
   "metadata": {},
   "outputs": [],
   "source": [
    "#Prime Factorization\n",
    "\n",
    "def isPrime(x):\n",
    "    for i in range(2,x):\n",
    "        if x % i == 0:\n",
    "            return False\n",
    "\n",
    "    return True\n",
    "\n",
    "\n",
    "def printPFactor(n):\n",
    "    for i in range(2,n+1):\n",
    "        if isPrime(i):\n",
    "            x = i\n",
    "            while n % x == 0:\n",
    "                print(i)\n",
    "                x = x * i\n",
    "\n",
    "if __name__ == '__main__':\n",
    "    n = int(input(\"Enter n\"))\n",
    "    printPFactor(n)\n"
   ]
  },
  {
   "cell_type": "code",
   "execution_count": 2,
   "id": "4a1fb47a-4bab-43f6-89ae-9ce2da77cce7",
   "metadata": {},
   "outputs": [
    {
     "name": "stdin",
     "output_type": "stream",
     "text": [
      "Enter a number 50\n"
     ]
    },
    {
     "name": "stdout",
     "output_type": "stream",
     "text": [
      "1\n",
      "2\n",
      "5\n",
      "10\n",
      "25\n",
      "50\n"
     ]
    }
   ],
   "source": [
    "#Print all divisors SELF\n",
    "\n",
    "def pDivisor(n):\n",
    "    for i in range(1,n+1):\n",
    "        if n % i == 0:\n",
    "            print(i)\n",
    "\n",
    "if __name__ == '__main__':\n",
    "    n = int(input(\"Enter a number\"))\n",
    "    pDivisor(n)"
   ]
  },
  {
   "cell_type": "code",
   "execution_count": 6,
   "id": "e2410360-c846-4f69-b3f3-3abe00425a86",
   "metadata": {},
   "outputs": [
    {
     "name": "stdin",
     "output_type": "stream",
     "text": [
      "Enter n  50\n"
     ]
    }
   ],
   "source": [
    "#Self try Efficent Way\n",
    "\n",
    "def pDivisor(n):\n",
    "\n",
    "    for i in range(1,n):\n",
    "        j = n\n",
    "        for j in range(n,j>i):\n",
    "            if i * j == n:\n",
    "                print(i,j)\n",
    "          \n",
    "\n",
    "if __name__ == '__main__':\n",
    "    n = int(input(\"Enter n \"))\n",
    "    pDivisor(n)"
   ]
  },
  {
   "cell_type": "code",
   "execution_count": 7,
   "id": "bf75d639-2861-4e9b-84f1-a9ef97ce3eba",
   "metadata": {},
   "outputs": [
    {
     "name": "stdin",
     "output_type": "stream",
     "text": [
      "Enter n  50\n"
     ]
    },
    {
     "name": "stdout",
     "output_type": "stream",
     "text": [
      "1 2 3 5 7 11 13 17 19 23 29 31 37 41 43 47 "
     ]
    }
   ],
   "source": [
    "#Sieve of Eratosthenes (All prime in a given range)\n",
    "\n",
    "def isPrime(n):\n",
    "    for i in range(2,n):\n",
    "        if n % i == 0:\n",
    "            return False\n",
    "\n",
    "    return True\n",
    "\n",
    "def printPrime(n):\n",
    "    for i in range(2,n+1):\n",
    "        if isPrime(i):\n",
    "            print(i , end = \" \")\n",
    "\n",
    "if __name__ == '__main__':\n",
    "    n = int(input(\"Enter n \"))\n",
    "    printPrime(n)"
   ]
  },
  {
   "cell_type": "code",
   "execution_count": 1,
   "id": "42ead9c9-23e4-4df0-aaac-1e901f10275a",
   "metadata": {},
   "outputs": [
    {
     "name": "stdin",
     "output_type": "stream",
     "text": [
      "Enter N  50\n"
     ]
    },
    {
     "name": "stdout",
     "output_type": "stream",
     "text": [
      "2 3 5 7 11 13 17 19 23 29 31 37 41 43 47 "
     ]
    }
   ],
   "source": [
    "#Sieve \n",
    "\n",
    "def sieve(n):\n",
    "    if n <= 1:\n",
    "        return\n",
    "\n",
    "    isPrime = [True] * (n+1)\n",
    "    i = 2\n",
    "    while i <= n:\n",
    "        if isPrime[i]:\n",
    "            print(i, end = \" \" )\n",
    "            for j in range(i * i , n + 1, i ):\n",
    "                isPrime[j]= False\n",
    "\n",
    "        i += 1\n",
    "\n",
    "if __name__ == '__main__':\n",
    "    n = int(input(\"Enter N \"))\n",
    "    sieve(n)"
   ]
  },
  {
   "cell_type": "code",
   "execution_count": 5,
   "id": "faafe975-3520-459d-9f72-cfd3b1b2f928",
   "metadata": {},
   "outputs": [
    {
     "name": "stdin",
     "output_type": "stream",
     "text": [
      "Enter Number 2\n",
      "Enter Power 3\n"
     ]
    },
    {
     "name": "stdout",
     "output_type": "stream",
     "text": [
      "8\n"
     ]
    }
   ],
   "source": [
    "#Computing Powers \n",
    "\n",
    "def computePower(n,i):\n",
    "    return (n ** i)\n",
    "\n",
    "if __name__ == '__main__':\n",
    "    n = int(input(\"Enter Number\"))\n",
    "    i = int(input(\"Enter Power\"))\n",
    "    print(computePower(n,i))\n"
   ]
  },
  {
   "cell_type": "code",
   "execution_count": 6,
   "id": "aa32a682-c067-4e92-9e8a-ea2506e0657f",
   "metadata": {},
   "outputs": [
    {
     "name": "stdin",
     "output_type": "stream",
     "text": [
      "Enter Number 2\n",
      "Enter Power 3\n"
     ]
    },
    {
     "name": "stdout",
     "output_type": "stream",
     "text": [
      "8\n"
     ]
    }
   ],
   "source": [
    "#Computing power sir Way\n",
    "def power(x,n):\n",
    "    if n == 0:\n",
    "        return 1\n",
    "\n",
    "    temp = power(x,n//2)\n",
    "    temp = temp * temp\n",
    "    if n % 2 == 0:\n",
    "        return temp\n",
    "\n",
    "    else:\n",
    "        return temp*x\n",
    "\n",
    "if __name__ == '__main__':\n",
    "    n = int(input(\"Enter Number\"))\n",
    "    i = int(input(\"Enter Power\"))\n",
    "    print(power(n,i))\n",
    "    "
   ]
  },
  {
   "cell_type": "code",
   "execution_count": 1,
   "id": "2e20bdc9-e514-4875-a872-5b42ed906361",
   "metadata": {},
   "outputs": [
    {
     "name": "stdin",
     "output_type": "stream",
     "text": [
      "Enter your Number 5\n",
      "Enter Your Power 4\n"
     ]
    },
    {
     "name": "stdout",
     "output_type": "stream",
     "text": [
      "1024\n"
     ]
    }
   ],
   "source": [
    "#iterative solution for computing power\n",
    "def power(x,n):\n",
    "    res = 1 \n",
    "    while n > 0:\n",
    "        if n%2 != 0:\n",
    "            res = res * x\n",
    "\n",
    "        x = x * x\n",
    "        n = n // 2\n",
    "\n",
    "    return res\n",
    "\n",
    "if __name__ == '__main__':\n",
    "    n = int(input(\"Enter your Number\"))\n",
    "    x = int(input(\"Enter Your Power\"))\n",
    "    print(power(x,n))"
   ]
  },
  {
   "cell_type": "code",
   "execution_count": null,
   "id": "0f4e7d48-78b5-4ca4-b9b9-e6e4ea02ed9d",
   "metadata": {},
   "outputs": [],
   "source": []
  }
 ],
 "metadata": {
  "kernelspec": {
   "display_name": "Python 3 (ipykernel)",
   "language": "python",
   "name": "python3"
  },
  "language_info": {
   "codemirror_mode": {
    "name": "ipython",
    "version": 3
   },
   "file_extension": ".py",
   "mimetype": "text/x-python",
   "name": "python",
   "nbconvert_exporter": "python",
   "pygments_lexer": "ipython3",
   "version": "3.12.7"
  }
 },
 "nbformat": 4,
 "nbformat_minor": 5
}
