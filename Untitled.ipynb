{
 "cells": [
  {
   "cell_type": "code",
   "execution_count": 1,
   "id": "a60e81f8-5428-4513-b1e7-ceff1c0d2f7d",
   "metadata": {},
   "outputs": [
    {
     "name": "stdout",
     "output_type": "stream",
     "text": [
      "43\n"
     ]
    }
   ],
   "source": [
    "#min max in list\n",
    "\n",
    "list = [12,32,1,23,43]\n",
    "print(max(list))\n"
   ]
  },
  {
   "cell_type": "code",
   "execution_count": 2,
   "id": "20546603-977f-40c7-954c-b62eacb6bbd3",
   "metadata": {},
   "outputs": [
    {
     "name": "stdout",
     "output_type": "stream",
     "text": [
      "1\n"
     ]
    }
   ],
   "source": [
    "print(min(list))"
   ]
  },
  {
   "cell_type": "code",
   "execution_count": 4,
   "id": "4a8e215d-2f68-4240-b60a-db8be381df71",
   "metadata": {},
   "outputs": [
    {
     "name": "stdout",
     "output_type": "stream",
     "text": [
      "[43, 23, 1, 32, 12]\n"
     ]
    }
   ],
   "source": [
    "print(list[::-1])"
   ]
  },
  {
   "cell_type": "code",
   "execution_count": 5,
   "id": "92456ebd-afe2-453c-b16c-1cf4fcec4506",
   "metadata": {},
   "outputs": [
    {
     "name": "stdout",
     "output_type": "stream",
     "text": [
      "Maximum element: 9\n",
      "Minimum element: 1\n"
     ]
    }
   ],
   "source": [
    "def find_max_min(arr):\n",
    "    if not arr:  # Check if the array is empty\n",
    "        return None, None\n",
    "\n",
    "    max_element = arr[0]\n",
    "    min_element = arr[0]\n",
    "\n",
    "    for num in arr[1:]:\n",
    "        if num > max_element:\n",
    "            max_element = num\n",
    "        if num < min_element:\n",
    "            min_element = num\n",
    "\n",
    "    return max_element, min_element\n",
    "\n",
    "# Example usage\n",
    "array = [3, 1, 4, 1, 5, 9, 2, 6, 5]\n",
    "maximum, minimum = find_max_min(array)\n",
    "print(\"Maximum element:\", maximum)\n",
    "print(\"Minimum element:\", minimum)\n"
   ]
  },
  {
   "cell_type": "code",
   "execution_count": 11,
   "id": "4bca1fd9-18b5-4753-9d2a-4cabd862dcb1",
   "metadata": {},
   "outputs": [
    {
     "name": "stdout",
     "output_type": "stream",
     "text": [
      "Minimum is :  1\n",
      "Maximum is :  34\n"
     ]
    }
   ],
   "source": [
    "#using function for min miax\n",
    "\n",
    "def find_min_max(array):\n",
    "    if not array:\n",
    "        return None\n",
    "    max = arr[0]\n",
    "    min = arr[0]\n",
    "    for num in array:\n",
    "        if num > max:\n",
    "            max = num\n",
    "        elif num < min:\n",
    "            min = num\n",
    "            \n",
    "    return min ,max\n",
    "\n",
    "arr = [12,23,24,34,33,1]\n",
    "min , max = find_min_max(arr)\n",
    "\n",
    "print(\"Minimum is : \",min)\n",
    "print(\"Maximum is : \",max)\n"
   ]
  },
  {
   "cell_type": "code",
   "execution_count": 12,
   "id": "bbf06186-a884-4a50-9a2a-91e8d34d7670",
   "metadata": {},
   "outputs": [
    {
     "name": "stdout",
     "output_type": "stream",
     "text": [
      "Reverse is :  [1, 33, 34, 24, 23, 12]\n"
     ]
    }
   ],
   "source": [
    "#reverse an array\n",
    "def rev(array):\n",
    "    if not array:\n",
    "        return None\n",
    "\n",
    "    else:\n",
    "        return array[::-1]\n",
    "\n",
    "arr = [12,23,24,34,33,1]\n",
    "rev = rev(arr)\n",
    "print(\"Reverse is : \",rev)"
   ]
  },
  {
   "cell_type": "code",
   "execution_count": 13,
   "id": "598124ec-e8d7-40b6-9df9-39d754955054",
   "metadata": {},
   "outputs": [
    {
     "ename": "TypeError",
     "evalue": "'int' object is not callable",
     "output_type": "error",
     "traceback": [
      "\u001b[1;31m---------------------------------------------------------------------------\u001b[0m",
      "\u001b[1;31mTypeError\u001b[0m                                 Traceback (most recent call last)",
      "Cell \u001b[1;32mIn[13], line 22\u001b[0m\n\u001b[0;32m     20\u001b[0m \u001b[38;5;66;03m# Example usage\u001b[39;00m\n\u001b[0;32m     21\u001b[0m array \u001b[38;5;241m=\u001b[39m [\u001b[38;5;241m-\u001b[39m\u001b[38;5;241m2\u001b[39m, \u001b[38;5;241m1\u001b[39m, \u001b[38;5;241m-\u001b[39m\u001b[38;5;241m3\u001b[39m, \u001b[38;5;241m4\u001b[39m, \u001b[38;5;241m-\u001b[39m\u001b[38;5;241m1\u001b[39m, \u001b[38;5;241m2\u001b[39m, \u001b[38;5;241m1\u001b[39m, \u001b[38;5;241m-\u001b[39m\u001b[38;5;241m5\u001b[39m, \u001b[38;5;241m4\u001b[39m]\n\u001b[1;32m---> 22\u001b[0m result \u001b[38;5;241m=\u001b[39m max_subarray_sum(array)\n\u001b[0;32m     23\u001b[0m \u001b[38;5;28mprint\u001b[39m(\u001b[38;5;124m\"\u001b[39m\u001b[38;5;124mMaximum Subarray Sum:\u001b[39m\u001b[38;5;124m\"\u001b[39m, result)\n",
      "Cell \u001b[1;32mIn[13], line 12\u001b[0m, in \u001b[0;36mmax_subarray_sum\u001b[1;34m(arr)\u001b[0m\n\u001b[0;32m      8\u001b[0m max_global \u001b[38;5;241m=\u001b[39m arr[\u001b[38;5;241m0\u001b[39m]\n\u001b[0;32m     10\u001b[0m \u001b[38;5;28;01mfor\u001b[39;00m num \u001b[38;5;129;01min\u001b[39;00m arr[\u001b[38;5;241m1\u001b[39m:]:\n\u001b[0;32m     11\u001b[0m     \u001b[38;5;66;03m# Update the maximum subarray ending at the current position\u001b[39;00m\n\u001b[1;32m---> 12\u001b[0m     max_current \u001b[38;5;241m=\u001b[39m \u001b[38;5;28mmax\u001b[39m(num, max_current \u001b[38;5;241m+\u001b[39m num)\n\u001b[0;32m     14\u001b[0m     \u001b[38;5;66;03m# Update the global maximum if the current subarray is greater\u001b[39;00m\n\u001b[0;32m     15\u001b[0m     \u001b[38;5;28;01mif\u001b[39;00m max_current \u001b[38;5;241m>\u001b[39m max_global:\n",
      "\u001b[1;31mTypeError\u001b[0m: 'int' object is not callable"
     ]
    }
   ],
   "source": [
    "#sub array\n",
    "def max_subarray_sum(arr):\n",
    "    if not arr:  # Check if the array is empty\n",
    "        return 0\n",
    "\n",
    "    # Initialize variables\n",
    "    max_current = arr[0]\n",
    "    max_global = arr[0]\n",
    "\n",
    "    for num in arr[1:]:\n",
    "        # Update the maximum subarray ending at the current position\n",
    "        max_current = max(num, max_current + num)\n",
    "\n",
    "        # Update the global maximum if the current subarray is greater\n",
    "        if max_current > max_global:\n",
    "            max_global = max_current\n",
    "\n",
    "    return max_global\n",
    "\n",
    "# Example usage\n",
    "array = [-2, 1, -3, 4, -1, 2, 1, -5, 4]\n",
    "result = max_subarray_sum(array)\n",
    "print(\"Maximum Subarray Sum:\", result)\n"
   ]
  },
  {
   "cell_type": "code",
   "execution_count": null,
   "id": "3aaeab4b-0210-4d4e-bc08-e4e744b04f9b",
   "metadata": {},
   "outputs": [],
   "source": []
  }
 ],
 "metadata": {
  "kernelspec": {
   "display_name": "Python 3 (ipykernel)",
   "language": "python",
   "name": "python3"
  },
  "language_info": {
   "codemirror_mode": {
    "name": "ipython",
    "version": 3
   },
   "file_extension": ".py",
   "mimetype": "text/x-python",
   "name": "python",
   "nbconvert_exporter": "python",
   "pygments_lexer": "ipython3",
   "version": "3.12.7"
  }
 },
 "nbformat": 4,
 "nbformat_minor": 5
}
