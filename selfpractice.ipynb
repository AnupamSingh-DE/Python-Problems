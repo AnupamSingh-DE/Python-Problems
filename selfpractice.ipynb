{
 "cells": [
  {
   "cell_type": "code",
   "execution_count": 3,
   "id": "12aa88da-c160-49ac-8a8c-3fa912be2d63",
   "metadata": {},
   "outputs": [
    {
     "name": "stdout",
     "output_type": "stream",
     "text": [
      "[1, 2, 3, 4, 5, 6, 7, 8]\n"
     ]
    }
   ],
   "source": [
    "#merge two arrays or list\n",
    "\n",
    "def mergeTwoLists(l1,l):\n",
    "    res = []\n",
    "    m = len(l1)\n",
    "    n = len(l)\n",
    "    i = 0\n",
    "    j = 0\n",
    "    while i < m and j < n:\n",
    "        if l1[i] < l[j]:\n",
    "            res.append(l1[i])\n",
    "            i += 1\n",
    "        else:\n",
    "            res.append(l[j])\n",
    "            j += 1\n",
    "\n",
    "    while i < m:\n",
    "        res.append(l1[i])\n",
    "        i+=1\n",
    "\n",
    "    while j < n:\n",
    "        res.append[l(j)]\n",
    "        j += 1\n",
    "        \n",
    "\n",
    "    return res\n",
    "    \n",
    "if __name__ == '__main__':\n",
    "    l1 =[5,6,7,8]\n",
    "    l = [1,2,3,4]\n",
    "    print(mergeTwoLists(l1,l))"
   ]
  },
  {
   "cell_type": "code",
   "execution_count": null,
   "id": "936a475b-b3d5-48e4-ba19-04e6c19263d3",
   "metadata": {},
   "outputs": [],
   "source": []
  }
 ],
 "metadata": {
  "kernelspec": {
   "display_name": "Python 3 (ipykernel)",
   "language": "python",
   "name": "python3"
  },
  "language_info": {
   "codemirror_mode": {
    "name": "ipython",
    "version": 3
   },
   "file_extension": ".py",
   "mimetype": "text/x-python",
   "name": "python",
   "nbconvert_exporter": "python",
   "pygments_lexer": "ipython3",
   "version": "3.12.7"
  }
 },
 "nbformat": 4,
 "nbformat_minor": 5
}
