{
 "cells": [
  {
   "cell_type": "code",
   "execution_count": 1,
   "id": "88a6b3c0-47c5-4dfa-841a-16244592bdf1",
   "metadata": {},
   "outputs": [
    {
     "name": "stdout",
     "output_type": "stream",
     "text": [
      "Hello Strings\n"
     ]
    }
   ],
   "source": [
    "print(\"Hello Strings\")"
   ]
  },
  {
   "cell_type": "code",
   "execution_count": 3,
   "id": "bcc2fe5e-a1ab-4f49-9110-6c5bee5dff88",
   "metadata": {},
   "outputs": [
    {
     "name": "stdout",
     "output_type": "stream",
     "text": [
      "65\n",
      "82\n",
      "a\n",
      "A\n"
     ]
    }
   ],
   "source": [
    "#printing normal characters\n",
    "print(ord(\"A\"))\n",
    "print(ord(\"R\"))\n",
    "print(chr(97))\n",
    "print(chr(65))"
   ]
  },
  {
   "cell_type": "code",
   "execution_count": 9,
   "id": "c0aeb774-9d10-41d1-8376-d412364ef0a0",
   "metadata": {},
   "outputs": [
    {
     "name": "stdout",
     "output_type": "stream",
     "text": [
      "geeks\n",
      "g\n",
      "e\n",
      "e\n",
      "k\n",
      "s\n"
     ]
    }
   ],
   "source": [
    "s = \"geeks\"\n",
    "print(s)\n",
    "print(s[0])\n",
    "print(s[2])\n",
    "print(s[1])\n",
    "print(s[-2])\n",
    "print(s[-1])"
   ]
  },
  {
   "cell_type": "code",
   "execution_count": 1,
   "id": "0d02e780-f0b6-4bc9-9b62-01216539216c",
   "metadata": {},
   "outputs": [
    {
     "name": "stdout",
     "output_type": "stream",
     "text": [
      "C:\\project\n",
      "ame.py\n",
      "C:\\project\\name.py\n",
      "geek's\n"
     ]
    },
    {
     "name": "stderr",
     "output_type": "stream",
     "text": [
      "<>:2: SyntaxWarning: invalid escape sequence '\\p'\n",
      "<>:2: SyntaxWarning: invalid escape sequence '\\p'\n",
      "C:\\Users\\Anupam Singh\\AppData\\Local\\Temp\\ipykernel_19016\\1648332564.py:2: SyntaxWarning: invalid escape sequence '\\p'\n",
      "  s1 = \"C:\\project\\name.py\"\n"
     ]
    }
   ],
   "source": [
    "#escape sequences and Raw Strings \n",
    "s1 = \"C:\\project\\name.py\"\n",
    "s2 = r\"C:\\project\\name.py\"\n",
    "s3 = 'geek\\'s'\n",
    "print(s1)\n",
    "print(s2)\n",
    "print(s3)\n"
   ]
  },
  {
   "cell_type": "code",
   "execution_count": 2,
   "id": "ada61fbd-8fc7-43f9-b5a4-63b0cc48a114",
   "metadata": {},
   "outputs": [
    {
     "name": "stdout",
     "output_type": "stream",
     "text": [
      "False\n",
      "False\n",
      "True\n",
      "True\n",
      "False\n",
      "True\n"
     ]
    }
   ],
   "source": [
    "s1 = \"geeksforgeeks\"\n",
    "s2 = \"ide\"\n",
    "print(s1>s2)\n",
    "print(s1>=s2)\n",
    "print(s1<s2)\n",
    "print(s1<=s2)\n",
    "print(s1 == s2)\n",
    "print(s1 != s2)"
   ]
  },
  {
   "cell_type": "code",
   "execution_count": 3,
   "id": "95f1cbdb-d39b-457a-8bb5-48ede5ca79dc",
   "metadata": {},
   "outputs": [
    {
     "name": "stdout",
     "output_type": "stream",
     "text": [
      "True\n",
      "False\n"
     ]
    }
   ],
   "source": [
    "s1 = \"geeksforgeeks\"\n",
    "s2 = \"geeks\"\n",
    "\n",
    "print(s2 in s1)\n",
    "print(s2 not in s1)"
   ]
  },
  {
   "cell_type": "code",
   "execution_count": 6,
   "id": "ed95333c-9aa4-40f8-8d67-f077b3f3e867",
   "metadata": {},
   "outputs": [
    {
     "name": "stdout",
     "output_type": "stream",
     "text": [
      "0\n",
      "8\n",
      "0\n"
     ]
    }
   ],
   "source": [
    "s3 = s1 + s2 \n",
    "print(s1.index(s2))\n",
    "print(s1.rindex(s2))\n",
    "print(s1.index(s2,0,13))"
   ]
  },
  {
   "cell_type": "code",
   "execution_count": 8,
   "id": "fd8f74df-2bd2-473d-94d4-cbe23d8943f0",
   "metadata": {},
   "outputs": [
    {
     "name": "stdout",
     "output_type": "stream",
     "text": [
      "5\n",
      "GEEKS\n",
      "geeks\n",
      "True\n",
      "True\n"
     ]
    }
   ],
   "source": [
    "s1 = \"geeks\"\n",
    "print(len(s1))\n",
    "s2 = s1.upper()\n",
    "print(s2)\n",
    "s3 = s2.lower()\n",
    "print(s3)\n",
    "print(s1.islower())\n",
    "print(s2.isupper())"
   ]
  },
  {
   "cell_type": "code",
   "execution_count": 11,
   "id": "1ee015a5-f93b-42c4-89b2-4187f09b56b8",
   "metadata": {},
   "outputs": [
    {
     "name": "stdout",
     "output_type": "stream",
     "text": [
      "True\n",
      "False\n",
      "True\n",
      "True\n"
     ]
    }
   ],
   "source": [
    "s = \"GeeksforGeeks python Course\"\n",
    "print(s.startswith(\"Geeks\"))\n",
    "print(s.endswith(\"Course\"))\n",
    "print(s.startswith(\"Geeks\"))\n",
    "print(s.startswith(\"Geeks\",8,len(s)))\n",
    "      "
   ]
  },
  {
   "cell_type": "code",
   "execution_count": 13,
   "id": "5a858c98-ce8f-4e3c-a645-e09081ab885d",
   "metadata": {},
   "outputs": [
    {
     "name": "stdout",
     "output_type": "stream",
     "text": [
      "geeksforgeeks\n",
      "--geeksforgeeks\n"
     ]
    }
   ],
   "source": [
    "#Strip function \n",
    "s = \"--geeksforgeeks--\"\n",
    "print(s.strip(\"-\"))\n",
    "#print(s.strip(\"-\"))\n",
    "print(s.rstrip(\"-\"))"
   ]
  },
  {
   "cell_type": "code",
   "execution_count": 14,
   "id": "16b42649-6228-431a-961e-c333812472d7",
   "metadata": {},
   "outputs": [
    {
     "name": "stdout",
     "output_type": "stream",
     "text": [
      "['geeks', 'for', 'geeks']\n",
      "['geeks ', ' for ', ' geeks']\n",
      "geeksforgeeks python lower\n",
      "geeksforgeeks python lower\n"
     ]
    }
   ],
   "source": [
    "#split Function\n",
    "s1 = \"geeks for geeks\"\n",
    "print(s1.split())\n",
    "s2 = \"geeks , for , geeks\"\n",
    "print(s2.split(\",\"))\n",
    "l = [\"geeksforgeeks\" , \"python\" , \"lower\"]\n",
    "print(\" \".join(l))\n",
    "print(\" \".join(l))\n"
   ]
  },
  {
   "cell_type": "code",
   "execution_count": 17,
   "id": "46cc8932-ae30-41fc-9ad5-a757f41bad95",
   "metadata": {},
   "outputs": [
    {
     "name": "stdout",
     "output_type": "stream",
     "text": [
      "0\n",
      "-1\n",
      "-1\n"
     ]
    }
   ],
   "source": [
    "#find function\n",
    "s1 = \"geeks for geeks\"\n",
    "s2 = \"geeks\"\n",
    "print(s1.find(s2))\n",
    "print(s1.find(\"gfg\"))\n",
    "n = len(s1)\n",
    "print(s1.find(s1,1,n))"
   ]
  },
  {
   "cell_type": "code",
   "execution_count": 7,
   "id": "9e96eee9-54db-4d86-9a99-ad41c26a5bfc",
   "metadata": {},
   "outputs": [
    {
     "name": "stdin",
     "output_type": "stream",
     "text": [
      "Enter a String:  ereh emoh ekil sleef yllaer ti ecalp srehtorb ym ot detfihs evah i olleh\n"
     ]
    },
    {
     "name": "stdout",
     "output_type": "stream",
     "text": [
      "hello i have shifted to my brothers place it really feels like home here\n"
     ]
    }
   ],
   "source": [
    "#reverse a string\n",
    "s = input(\"Enter a String: \")\n",
    "rev = \"\"\n",
    "for i in s:\n",
    "    #print(i, end = \"\")\n",
    "    rev = i + rev\n",
    "\n",
    "print(f\"{rev}\")"
   ]
  },
  {
   "cell_type": "code",
   "execution_count": 13,
   "id": "22932823-93c2-484e-93e1-1202bdd3515a",
   "metadata": {},
   "outputs": [
    {
     "name": "stdin",
     "output_type": "stream",
     "text": [
      "Enter string1 asd\n",
      "Enter string2 dsa\n"
     ]
    },
    {
     "name": "stdout",
     "output_type": "stream",
     "text": [
      "The strings Are Rotations of each other : True\n"
     ]
    }
   ],
   "source": [
    "#Check if a strong is rotated\n",
    "\n",
    "def areRotation(s1,s2):\n",
    "    if len(s1) != len(s2):\n",
    "        return False\n",
    "    temp = \"\"    \n",
    "    temp = s1 + s2\n",
    "    if temp.find(s2) != -1:\n",
    "        return True\n",
    "        \n",
    "\n",
    "if __name__ == \"__main__\":\n",
    "    s1 = input(\"Enter string1\")\n",
    "    s2 = input(\"Enter string2\")\n",
    "    print(f\"The strings Are Rotations of each other : {areRotation(s1,s2)}\")\n"
   ]
  },
  {
   "cell_type": "code",
   "execution_count": 23,
   "id": "511d7a11-246a-489e-998b-fdf95e73b03d",
   "metadata": {},
   "outputs": [
    {
     "name": "stdin",
     "output_type": "stream",
     "text": [
      "Enter String assdssas\n"
     ]
    },
    {
     "name": "stdout",
     "output_type": "stream",
     "text": [
      "assdssas\n",
      "String Is palindrome : False\n"
     ]
    }
   ],
   "source": [
    "#Check For palindrome\n",
    "def isPalindrome(s1):\n",
    "    rev = \"\"\n",
    "    for i in s1:\n",
    "        rev = i + rev\n",
    "\n",
    "    if s1 == rev:\n",
    "        return True\n",
    "\n",
    "    else:\n",
    "        return False\n",
    "\n",
    "if __name__ == '__main__':\n",
    "    s1 = input(\"Enter String\")\n",
    "    print(s1)\n",
    "    print(f\"String Is palindrome : {isPalindrome(s1)}\")"
   ]
  },
  {
   "cell_type": "code",
   "execution_count": 1,
   "id": "235fdbbf-31a0-4dec-b5f4-99f216529242",
   "metadata": {},
   "outputs": [
    {
     "name": "stdin",
     "output_type": "stream",
     "text": [
      "Enter the string:  asdfdsa\n"
     ]
    },
    {
     "name": "stdout",
     "output_type": "stream",
     "text": [
      "yess\n"
     ]
    }
   ],
   "source": [
    "s = input(\"Enter the string: \")\n",
    "low = 0\n",
    "high = len(s) - 1\n",
    "while low <= high:\n",
    "    if s[low] != s[high]:\n",
    "        print(\"No\")\n",
    "        break\n",
    "\n",
    "    low += 1\n",
    "    high -= 1\n",
    "\n",
    "else:\n",
    "    print(\"yess\")"
   ]
  },
  {
   "cell_type": "code",
   "execution_count": 11,
   "id": "69486e9e-25d8-4bb5-ad58-338f1c543b58",
   "metadata": {},
   "outputs": [
    {
     "name": "stdin",
     "output_type": "stream",
     "text": [
      "Enter main String: asdf\n",
      "Enter spring to be compared: asd\n"
     ]
    },
    {
     "name": "stdout",
     "output_type": "stream",
     "text": [
      "True\n"
     ]
    }
   ],
   "source": [
    "#Check if a string is subsequence of other\n",
    "def subSeq(s1,s2):\n",
    "        \n",
    "    i,j = 0,0\n",
    "    while i < len(s1) and j < len(s2):\n",
    "        if s1[i] == s2[j]:\n",
    "            j += 1\n",
    "\n",
    "        i += 1\n",
    "\n",
    "    if j == len(s2):\n",
    "        return True\n",
    "\n",
    "    else:\n",
    "        return False\n",
    "        \n",
    "\n",
    "if __name__ == \"__main__\":\n",
    "    s1 = input(\"Enter main String:\")\n",
    "    s2 = input(\"Enter spring to be compared:\")\n",
    "    print(f\"{subSeq(s1,s2)}\")"
   ]
  },
  {
   "cell_type": "code",
   "execution_count": 13,
   "id": "efaa7f30-5579-44b5-9172-57b56e9efa21",
   "metadata": {},
   "outputs": [
    {
     "name": "stdin",
     "output_type": "stream",
     "text": [
      "Enter main String: asdf\n",
      "Enter spring to be compared: asd\n"
     ]
    },
    {
     "name": "stdout",
     "output_type": "stream",
     "text": [
      "False\n"
     ]
    }
   ],
   "source": [
    "#Check For Anagram\n",
    "def anagram(s1,s2):\n",
    "    if len(s1) != len(s2):\n",
    "        return False\n",
    "    s1 = sorted(s1)\n",
    "    s2 = sorted(s2)\n",
    "    return (s1 == s2)\n",
    "    \n",
    "\n",
    "if __name__ == \"__main__\":\n",
    "    s1 = input(\"Enter main String:\")\n",
    "    s2 = input(\"Enter spring to be compared:\")\n",
    "    print(f\"{anagram(s1,s2)}\")"
   ]
  },
  {
   "cell_type": "code",
   "execution_count": 21,
   "id": "06042de8-a948-4d76-961a-4f0a19e5d9c4",
   "metadata": {},
   "outputs": [
    {
     "name": "stdin",
     "output_type": "stream",
     "text": [
      "Enter main String: asdf\n",
      "Enter spring to be compared: fdsa\n"
     ]
    },
    {
     "name": "stdout",
     "output_type": "stream",
     "text": [
      "True\n"
     ]
    }
   ],
   "source": [
    "#Efficient Way for it\n",
    "char = 256\n",
    "def anagram(s1,s2):\n",
    "    if len(s1) != len(s2):\n",
    "        return False\n",
    "    count = [0] * char\n",
    "    for i in range(len(s1)):\n",
    "        count[ord(s1[i])] += 1\n",
    "        count[ord(s2[i])] -= 1\n",
    "\n",
    "    for x in count:\n",
    "        if x != 0:\n",
    "            return False\n",
    "    return True\n",
    "\n",
    "if __name__ == \"__main__\":\n",
    "    s1 = input(\"Enter main String:\")\n",
    "    s2 = input(\"Enter spring to be compared:\")\n",
    "    print(f\"{anagram(s1,s2)}\")"
   ]
  },
  {
   "cell_type": "code",
   "execution_count": 9,
   "id": "40508614-10ec-405e-bbd5-65782d6e41e4",
   "metadata": {},
   "outputs": [
    {
     "name": "stdin",
     "output_type": "stream",
     "text": [
      "Enter the String asdfg\n"
     ]
    },
    {
     "name": "stdout",
     "output_type": "stream",
     "text": [
      "The Leftmost repeating character is at index: -1\n"
     ]
    }
   ],
   "source": [
    "#Find leftmost Repeating charachter\n",
    "def leftMostChar(str):\n",
    "    if len(str)==1:\n",
    "        return None\n",
    "\n",
    "    for i in range (0,len(str)):\n",
    "        \n",
    "        for j in range (i+1,len(str)):\n",
    "            if str[i] == str[j]:\n",
    "                return i\n",
    "\n",
    "            j += 1\n",
    "        i += 1\n",
    "\n",
    "    return -1\n",
    "if __name__==\"__main__\":\n",
    "    str = input(\"Enter the String\")\n",
    "    leftMostChar(str)\n",
    "    print(f\"The Leftmost repeating character is at index: {leftMostChar(str)}\")"
   ]
  },
  {
   "cell_type": "code",
   "execution_count": 2,
   "id": "92a88c39-4a18-42fb-a16a-74d0fbbb3d09",
   "metadata": {},
   "outputs": [
    {
     "name": "stdin",
     "output_type": "stream",
     "text": [
      "Enter the string anupam\n"
     ]
    },
    {
     "name": "stdout",
     "output_type": "stream",
     "text": [
      "The index of repeating character is : 0\n"
     ]
    }
   ],
   "source": [
    "#Better Approach for it\n",
    "\n",
    "CHAR = 256\n",
    "def leftMost(str):\n",
    "    count = [0] * CHAR\n",
    "    for i in range(len(str)):\n",
    "        count[ord(str[i])] += 1\n",
    "\n",
    "    for i in range(len(str)):\n",
    "        if count[ord(str[i])] > 1:\n",
    "            return i\n",
    "\n",
    "    return -1\n",
    "\n",
    "if __name__ == \"__main__\":\n",
    "    str = input(\"Enter the string\")\n",
    "    print(f\"The index of repeating character is : {leftMost(str)}\")"
   ]
  },
  {
   "cell_type": "code",
   "execution_count": 3,
   "id": "550bdc64-8c4f-4124-ac05-0313cfa96ea9",
   "metadata": {},
   "outputs": [
    {
     "name": "stdin",
     "output_type": "stream",
     "text": [
      "Enter the string anupam\n"
     ]
    },
    {
     "name": "stdout",
     "output_type": "stream",
     "text": [
      "Left most character is :0\n"
     ]
    }
   ],
   "source": [
    "#another better approach\n",
    "import sys\n",
    "char = 256\n",
    "def leftMost(str):\n",
    "    # if len(str) < 2:\n",
    "    #     return False\n",
    "    count = [-1] * char\n",
    "    res = sys.maxsize\n",
    "    for i in range (len(str)):\n",
    "        if count[ord(str[i])] == -1:\n",
    "            count[ord(str[i])] = i\n",
    "        else:\n",
    "            res = min(res,count[ord(str[i])])\n",
    "    if res == sys.maxsize:\n",
    "        return -1\n",
    "    else:\n",
    "        return res\n",
    "    \n",
    "\n",
    "if __name__ == \"__main__\":\n",
    "    str = input(\"Enter the string\")\n",
    "    print(f\"Left most character is :{leftMost(str)}\") "
   ]
  },
  {
   "cell_type": "code",
   "execution_count": null,
   "id": "a9bc897f-c37e-4598-9177-f5be5bd314b2",
   "metadata": {},
   "outputs": [],
   "source": []
  },
  {
   "cell_type": "code",
   "execution_count": 15,
   "id": "50ff652f-a3e7-4c4e-97e0-97ae928b0674",
   "metadata": {},
   "outputs": [
    {
     "name": "stdin",
     "output_type": "stream",
     "text": [
      "Enter the String anupam\n"
     ]
    },
    {
     "name": "stdout",
     "output_type": "stream",
     "text": [
      "Index of Non Repeating Character in: 1\n"
     ]
    }
   ],
   "source": [
    "#leftMost non repeating Character.(Naive Approach)\n",
    "def nonRep(s):\n",
    "    for i in range (len(s)):\n",
    "        flag = False\n",
    "        for j in range(i+1, len(s)):\n",
    "            if s[i] == s[j]:\n",
    "                flag = True\n",
    "                break\n",
    "        if flag == False:\n",
    "            return i \n",
    "\n",
    "    return -1\n",
    "\n",
    "if __name__ == \"__main__\":\n",
    "    s = input(\"Enter the String\")\n",
    "    print(f\"Index of Non Repeating Character in: {nonRep(s)}\")"
   ]
  },
  {
   "cell_type": "code",
   "execution_count": 9,
   "id": "e16cfea3-97fb-436d-a768-ebf1f350fe94",
   "metadata": {},
   "outputs": [
    {
     "name": "stdin",
     "output_type": "stream",
     "text": [
      "Enter The String aaaabbbhhhvfffkjjmn\n"
     ]
    },
    {
     "name": "stdout",
     "output_type": "stream",
     "text": [
      "The index of non repeating character is: 10\n"
     ]
    }
   ],
   "source": [
    "#leftMost non repeating Character.\n",
    "CHAR = 256\n",
    "def nonRepeat(str):\n",
    "    count = [0] * 256\n",
    "    for i in range(len(str)):\n",
    "        count[ord(str[i])] += 1\n",
    "\n",
    "    for i in range(len(str)):\n",
    "        if count[ord(str[i])] <= 1:\n",
    "            return i\n",
    "\n",
    "    return -1\n",
    "\n",
    "if __name__ == \"__main__\":\n",
    "    str = input(\"Enter The String\")\n",
    "    print(f\"The index of non repeating character is: {nonRepeat(str)}\")"
   ]
  },
  {
   "cell_type": "code",
   "execution_count": 2,
   "id": "2a5f471b-8979-4e14-ba72-24d7cf454a5e",
   "metadata": {},
   "outputs": [
    {
     "name": "stdin",
     "output_type": "stream",
     "text": [
      "Enter the string anupam\n"
     ]
    },
    {
     "name": "stdout",
     "output_type": "stream",
     "text": [
      "The index of non repeating char is : 1\n"
     ]
    }
   ],
   "source": [
    "import sys\n",
    "char = 256\n",
    "def nonRep(str):\n",
    "    fI = [-1] * char\n",
    "    for i in range(len(str)):\n",
    "        if fI[ord(str[i])] == -1:\n",
    "            fI[ord(str[i])] = i\n",
    "\n",
    "        else:\n",
    "            fI[ord(str[i])] = -2\n",
    "\n",
    "    res = sys.maxsize\n",
    "    for i in range(char):\n",
    "        if fI[i] >= 0:\n",
    "            res = min(res,fI[i])\n",
    "\n",
    "    if res == sys.maxsize:\n",
    "        return -1\n",
    "\n",
    "    else:\n",
    "        return res\n",
    "\n",
    "if __name__ == \"__main__\":\n",
    "    str = input(\"Enter the string\")\n",
    "    print(f\"The index of non repeating char is : {nonRep(str)}\")\n",
    "\n",
    "\n",
    "    \n",
    "    "
   ]
  },
  {
   "cell_type": "code",
   "execution_count": null,
   "id": "484c2864-3b96-4214-800b-a9969e13e132",
   "metadata": {},
   "outputs": [],
   "source": []
  },
  {
   "cell_type": "code",
   "execution_count": 27,
   "id": "23b33f7d-e084-4ad1-b533-40dba29bdc15",
   "metadata": {},
   "outputs": [
    {
     "name": "stdin",
     "output_type": "stream",
     "text": [
      "Enter the sentence casck wnk \n"
     ]
    },
    {
     "name": "stdout",
     "output_type": "stream",
     "text": [
      "Reverse of the sentence is :  wnk casck\n"
     ]
    }
   ],
   "source": [
    "#Reverse words in Strings\n",
    "def reverse(s,b,e):\n",
    "    while (b < e) :\n",
    "        \n",
    "        s[b] , s[e] = s[e],s[b]\n",
    "        b += 1\n",
    "        e -= 1\n",
    "    \n",
    "def reverseWords(s):\n",
    "    s = list(s)\n",
    "    start = 0\n",
    "    e = len(s)\n",
    "    for i in range(e + 1):\n",
    "        if (e == i or s[i] == \" \"):\n",
    "            reverse(s,start,i-1)\n",
    "            start = i + 1\n",
    "    reverse(s,start,i-1)\n",
    "    reverse(s,0,e-1)\n",
    "    return ''.join(s)\n",
    "        \n",
    "\n",
    "\n",
    "if __name__ == \"__main__\":\n",
    "    wrd = input(\"Enter the sentence\")\n",
    "    b = 0\n",
    "    e = len(wrd) - 1\n",
    "    print(f\"Reverse of the sentence is : {reverseWords(wrd)}\")\n",
    "\n",
    "#output not as expected "
   ]
  },
  {
   "cell_type": "code",
   "execution_count": null,
   "id": "5a84a55d-2ffb-4c82-abd4-c4b4f1b72ecb",
   "metadata": {},
   "outputs": [],
   "source": [
    "\n"
   ]
  },
  {
   "cell_type": "code",
   "execution_count": null,
   "id": "819a3545-3ab7-4237-b166-dbbbdb8299b2",
   "metadata": {},
   "outputs": [],
   "source": []
  }
 ],
 "metadata": {
  "kernelspec": {
   "display_name": "Python 3 (ipykernel)",
   "language": "python",
   "name": "python3"
  },
  "language_info": {
   "codemirror_mode": {
    "name": "ipython",
    "version": 3
   },
   "file_extension": ".py",
   "mimetype": "text/x-python",
   "name": "python",
   "nbconvert_exporter": "python",
   "pygments_lexer": "ipython3",
   "version": "3.12.7"
  }
 },
 "nbformat": 4,
 "nbformat_minor": 5
}
